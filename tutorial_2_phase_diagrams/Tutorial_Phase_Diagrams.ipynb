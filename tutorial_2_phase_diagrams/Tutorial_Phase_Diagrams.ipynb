{
 "cells": [
  {
   "cell_type": "markdown",
   "metadata": {},
   "source": [
    "## Tutorial 1: Phase diagram"
   ]
  },
  {
   "cell_type": "markdown",
   "metadata": {},
   "source": [
    "Information about compounds will be taken from MaterialsProject database https://next-gen.materialsproject.org\n",
    "\n",
    "Firstly, we should import necessary python libraries"
   ]
  },
  {
   "cell_type": "code",
   "execution_count": null,
   "metadata": {},
   "outputs": [],
   "source": [
    "# !pip install thermochem"
   ]
  },
  {
   "cell_type": "code",
   "execution_count": null,
   "metadata": {},
   "outputs": [],
   "source": [
    "#for Matproject\n",
    "from mp_api.client import MPRester\n",
    "from pymatgen.analysis.phase_diagram import PhaseDiagram, PDPlotter\n",
    "from pymatgen.entries.mixing_scheme import MaterialsProjectDFTMixingScheme\n",
    "\n",
    "#library for working with tables\n",
    "from pandas import DataFrame\n",
    "\n",
    "import collections\n",
    "\n",
    "import numpy as np\n",
    "import matplotlib.pyplot as plt\n",
    "\n",
    "# !pip install mpcontribs-client #if not installed and show error"
   ]
  },
  {
   "cell_type": "markdown",
   "metadata": {},
   "source": [
    "The interaction with Materials Project will occur from this Notebook via API. \n",
    "\n",
    "API requires a special key, which should be generated on their webpage https://next-gen.materialsproject.org/api"
   ]
  },
  {
   "cell_type": "code",
   "execution_count": null,
   "metadata": {},
   "outputs": [],
   "source": [
    "your_api_key = \"Jx8eNRBN0gQyptvUkzEbjCd9kUArLvt0\" #put here your own API key from https://next-gen.materialsproject.org/api"
   ]
  },
  {
   "cell_type": "markdown",
   "metadata": {},
   "source": [
    "## 1. Binary phase diagram (Convex hull)"
   ]
  },
  {
   "cell_type": "markdown",
   "metadata": {},
   "source": [
    "Here we construct a binary phase diagram in a format of Convex hull for the system of Co-O.\n",
    "\n"
   ]
  },
  {
   "cell_type": "markdown",
   "metadata": {},
   "source": [
    "**Step 1: obtain information about all the Co_xO_y compounds in Materials Project database**"
   ]
  },
  {
   "cell_type": "code",
   "execution_count": null,
   "metadata": {
    "scrolled": true
   },
   "outputs": [],
   "source": [
    "with MPRester(your_api_key) as mpr:\n",
    "    # Obtain only corrected GGA and GGA+U ComputedStructureEntry objects\n",
    "    entries_co_o = mpr.get_entries_in_chemsys(elements=[\"Co\",  \"O\"], \n",
    "                                         additional_criteria={\"thermo_types\": [\"GGA_GGA+U\"]}\n",
    "                                         ) \n",
    "\n",
    "print('Done')"
   ]
  },
  {
   "cell_type": "code",
   "execution_count": null,
   "metadata": {},
   "outputs": [],
   "source": [
    "# What information does the entry contain?\n",
    "print(entries_co_o[50])"
   ]
  },
  {
   "cell_type": "markdown",
   "metadata": {},
   "source": [
    "**Step 2: Simple way to construct Convex Hull**"
   ]
  },
  {
   "cell_type": "code",
   "execution_count": null,
   "metadata": {},
   "outputs": [],
   "source": [
    "pd_co_o = PhaseDiagram(entries_co_o)\n",
    "\n",
    "plotter = PDPlotter(pd_co_o, show_unstable=True) #you can switch off unstable compounds via plot interface\n",
    "plotter.show()"
   ]
  },
  {
   "cell_type": "markdown",
   "metadata": {},
   "source": [
    "**Step 3: analysis**"
   ]
  },
  {
   "cell_type": "code",
   "execution_count": null,
   "metadata": {},
   "outputs": [],
   "source": [
    "#We can write all found compounds into a table\n",
    "data = collections.defaultdict(list) #create empty dictionary\n",
    "\n",
    "#fill the dictionary by necessary properties\n",
    "# print(dir(entries_co_o[0])) #to show all possible properties of entries_co_o[0] object\n",
    "for e in entries_co_o:\n",
    "    data[\"Materials ID\"].append(e.entry_id)\n",
    "    data[\"Composition\"].append(e.composition.reduced_formula)\n",
    "    data[\"Spacegroup\"].append(e.structure.get_space_group_info())\n",
    "    data[\"Ehull\"].append(pd_co_o.get_e_above_hull(e))    \n",
    "\n",
    "#convert dictionary to more usable format using pandas\n",
    "df = DataFrame(data, columns=[\"Materials ID\", \"Spacegroup\", \"Composition\", \"Ehull\"])\n",
    "print(df)\n",
    "\n",
    "#write all the compounds into co-o_all.csv file\n",
    "df.to_csv('co-o_all.csv') "
   ]
  },
  {
   "cell_type": "markdown",
   "metadata": {},
   "source": [
    "Show only stable compounds use the pd.stable_entries"
   ]
  },
  {
   "cell_type": "code",
   "execution_count": null,
   "metadata": {},
   "outputs": [],
   "source": [
    "data = collections.defaultdict(list) #create empty dictionary\n",
    "\n",
    "#fill the dictionary by necessary properties\n",
    "for e in pd_co_o.stable_entries:\n",
    "    data[\"Materials ID\"].append(e.entry_id)\n",
    "    data[\"Composition\"].append(e.composition.reduced_formula)\n",
    "    data[\"Spacegroup\"].append(e.structure.get_space_group_info())\n",
    "    data[\"Ehull\"].append(pd_co_o.get_e_above_hull(e))    \n",
    "\n",
    "df = DataFrame(data, columns=[\"Materials ID\", \"Spacegroup\", \"Composition\", \"Ehull\"])\n",
    "print(df)\n",
    "#write only stable compounds into co-o_stable.csv file\n",
    "df.to_csv('co-o_stable.csv') "
   ]
  },
  {
   "cell_type": "markdown",
   "metadata": {},
   "source": [
    "We obtained N stable compounds characterized by Ehull or energy above hull = 0, that means they belong to the convex hull line"
   ]
  },
  {
   "cell_type": "markdown",
   "metadata": {},
   "source": [
    "## 2. Ternary phase diagram (Convex Hull)"
   ]
  },
  {
   "cell_type": "markdown",
   "metadata": {},
   "source": [
    "Ternary phase diagram construction has the same procedure:"
   ]
  },
  {
   "cell_type": "code",
   "execution_count": null,
   "metadata": {},
   "outputs": [],
   "source": [
    "with MPRester(your_api_key) as mpr:\n",
    "\n",
    "    # Obtain GGA, and GGA+U ComputedStructureEntry objects\n",
    "    entries_li_co_o = mpr.get_entries_in_chemsys(elements=[\"Li\", \"Co\", \"O\"], \n",
    "                                         additional_criteria={\"thermo_types\": [\"GGA_GGA+U\"]}) \n",
    "    \n",
    "   \n",
    "    # Construct phase diagram\n",
    "    pd_li_co_o = PhaseDiagram(entries_li_co_o)\n",
    "    \n",
    "    # Plot phase diagram\n",
    "    plotter = PDPlotter(pd_li_co_o,show_unstable=0) #show_unstable key switches on/off showing unstable compounds\n",
    "    plotter.show()"
   ]
  },
  {
   "cell_type": "markdown",
   "metadata": {},
   "source": [
    "Get all the compounds of Li-Co-O system"
   ]
  },
  {
   "cell_type": "code",
   "execution_count": null,
   "metadata": {},
   "outputs": [],
   "source": [
    "data = collections.defaultdict(list)\n",
    "\n",
    "for e in pd_li_co_o.stable_entries:\n",
    "    data[\"Materials ID\"].append(e.entry_id)\n",
    "    data[\"Composition\"].append(e.composition.reduced_formula)\n",
    "    data[\"Spacegroup\"].append(e.structure.get_space_group_info())\n",
    "    data[\"Ehull\"].append(pd_li_co_o.get_e_above_hull(e))    \n",
    "    data[\"Eform per at\"].append(pd_li_co_o.get_form_energy_per_atom(e))    \n",
    "\n",
    "df = DataFrame(data, columns=[\"Materials ID\", \"Spacegroup\", \"Composition\", \"Ehull\",\"Eform per at\"])\n",
    "print(df)\n",
    "df.to_csv('li-co-o_stable.csv') #write only stable compounds into li-co-o_stable.csv file"
   ]
  },
  {
   "cell_type": "markdown",
   "metadata": {},
   "source": [
    "## 3. Phase diagram in chemical potential space"
   ]
  },
  {
   "cell_type": "code",
   "execution_count": null,
   "metadata": {},
   "outputs": [],
   "source": [
    "#import necessary libraries\n",
    "from pymatgen.analysis.phase_diagram import GrandPotentialPhaseDiagram, GrandPotPDEntry, PDEntry\n",
    "from pymatgen.core.periodic_table import Element\n",
    "from pymatgen.core.composition import Composition"
   ]
  },
  {
   "cell_type": "markdown",
   "metadata": {},
   "source": [
    "**Simple way to construct such a phase diagram is using Materials project's data**"
   ]
  },
  {
   "cell_type": "code",
   "execution_count": null,
   "metadata": {},
   "outputs": [],
   "source": [
    "#Use previously obtained entries from Materials Project\n",
    "with MPRester(your_api_key) as mpr:\n",
    "\n",
    "    # Obtain GGA, and GGA+U ComputedStructureEntry objects\n",
    "    entries_li_co_o = mpr.get_entries_in_chemsys(elements=[\"Li\", \"Co\", \"O\"], \n",
    "                                         additional_criteria={\"thermo_types\": [\"GGA_GGA+U\"]}) \n",
    "\n",
    "pd_li_co_o = PhaseDiagram(entries_li_co_o)\n",
    "\n",
    "stable_entries=pd_li_co_o.stable_entries\n",
    "PD = PhaseDiagram(stable_entries, )  \n",
    "plot = PDPlotter(PD)\n",
    "\n",
    "plt_mp = plot.get_chempot_range_map_plot([Element('Li'), Element('O')]) #phase diagram in Li-O chem pot space\n",
    "filename = 'Li-Co-O_PD'\n",
    "plt.savefig(filename, bbox_inches='tight')\n",
    "plt.show()"
   ]
  },
  {
   "cell_type": "markdown",
   "metadata": {},
   "source": [
    "**How to construct it using your compounds list and DFT calculated formation energies. You also can get rid of some phases from consideration**"
   ]
  },
  {
   "cell_type": "code",
   "execution_count": null,
   "metadata": {},
   "outputs": [],
   "source": [
    "# Collect a dictionary of formation energies (from MP is ok) for interesting phases of considering system\n",
    "# Note, pure components should have zero formation energy\n",
    "# Own obtained formation energies can be used. Here we use data from Boev, A. O., et al. Applied Surface Science 537 (2021): 147750.\n",
    " \n",
    "data_Li_Co_O = {\n",
    "'Li'        : 0,\n",
    "'O'         : 0,\n",
    "'Co'        : 0,\n",
    "'O2'        : 0,\n",
    "'Co3O4'     : -1.394*7 , # mp-714961\n",
    "'CoO2'      : -1.076*3 , # mp-1901\n",
    "'CoO'       : -1.235*2 , # mp-715434\n",
    "'LiCoO2'    : -1.780*4 , # mp-19149\n",
    "'LiCo2O4'   : -1.516*7 , # mp-19149\n",
    "'Li2O2'     : -1.760*4 , # mp-2340\n",
    "'Li2O'      : -2.093*3 , # mp-2352\n",
    "}\n",
    "\n",
    "filename = 'chemical_phase_Li_Co_O.png'\n",
    "\n",
    "\n",
    "entries = [] #create entries from dictionary\n",
    "for key in data_Li_Co_O:\n",
    "    entries.append(PDEntry(Composition(key), data_Li_Co_O[key]))\n",
    "\n",
    "PD = PhaseDiagram(entries)  \n",
    "plot = PDPlotter(PD)\n",
    "\n",
    "plt_mp = plot.get_chempot_range_map_plot([Element('Li'), Element('O')]) #phase diagram in Li-O chem pot space\n",
    "\n",
    "plt.savefig(filename,bbox_inches='tight')\n",
    "plt.show()\n"
   ]
  },
  {
   "cell_type": "markdown",
   "metadata": {},
   "source": [
    "## How to use it? Synthesis conditions via O chem pot (This information is just what you get familiar with)"
   ]
  },
  {
   "cell_type": "code",
   "execution_count": null,
   "metadata": {},
   "outputs": [],
   "source": [
    "# thermochem is a special database containing information about entropy and enthalpy of main gases including O2\n",
    "# !pip install thermochem\n",
    "import math\n",
    "from thermochem.burcat import Elementdb\n",
    "from thermochem.janaf import Janafdb\n",
    "# https://janaf.nist.gov/tables/O-029.html\n",
    "# https://github.com/adelq/thermochem/blob/master/thermochem/janaf.py\n",
    "\n",
    "# Define constants\n",
    "atm = 101325 # Pa\n",
    "R = 8.315 # J/mol/K\n",
    "kJ_mol2eV = 1.0364e-2\n",
    "\n",
    "# read Janaf database\n",
    "db = Janafdb()\n",
    "p_data = db.getphasedata(formula='O2', phase='ref')"
   ]
  },
  {
   "cell_type": "code",
   "execution_count": null,
   "metadata": {},
   "outputs": [],
   "source": [
    "# The function to show dmu_O dependence on partial oxygen pressure\n",
    "\n",
    "def dmu_p(T, unit = 'C'):\n",
    "    #T in K\n",
    "    import matplotlib.pyplot as plt\n",
    "    import numpy as np\n",
    "\n",
    "    if unit == 'C': T = T+273\n",
    "    p_list = []\n",
    "    dmu_list = []\n",
    "    plt.figure(figsize = (8, 5))\n",
    "    \n",
    "\n",
    "    for p in range(1,100000, 100):\n",
    "            RT = R*T\n",
    "            p = p*0.00000987 # Pa to atm\n",
    "            # data from JANAF\n",
    "            dH = p_data.DeltaH(T)# Enthalpy in kJ/mol\n",
    "            dS = (p_data.S(T) - p_data.S(0))# Entropy in J/mol/K\n",
    "            dG_O2_T = dH - T*dS\n",
    "            mu = dG_O2_T + RT*math.log(p)\n",
    "            dmu = 0.5*(mu)*kJ_mol2eV/1000\n",
    "\n",
    "            dmu_list.append(dmu)\n",
    "            p_list.append(p)\n",
    "\n",
    "    plt.plot(p_list, dmu_list, 'ko', alpha = 0.9, markersize = 0.7)\n",
    "    plt.xlabel('p(O$_2$), atm', fontsize = 20, family='Serif')\n",
    "    plt.ylabel('$\\Delta\\mu$(O), eV', fontsize = 20, family='Serif')\n",
    "    # plt.xlim(0,50)\n",
    "    plt.text(p/2, dmu*1.1,'T = {}$^\\circ$ C'.format(T), fontsize = 20, family='Serif')\n",
    "    # plt.ylim(33,1000)\n",
    "    plt.xticks(fontsize = 16)\n",
    "    plt.yticks(fontsize = 16)\n",
    "    plt.show()\n"
   ]
  },
  {
   "cell_type": "code",
   "execution_count": null,
   "metadata": {},
   "outputs": [],
   "source": [
    "dmu_p(T=470, unit = 'С')"
   ]
  },
  {
   "cell_type": "code",
   "execution_count": null,
   "metadata": {},
   "outputs": [],
   "source": [
    "# The function to show dmu_O dependence on synthesis temperature\n",
    "def dmu_T(p):\n",
    "    #p in atm\n",
    "    import matplotlib.pyplot as plt\n",
    "    import numpy as np\n",
    "    import math\n",
    "    T_list = []\n",
    "    dmu_list = []\n",
    "    plt.figure(figsize = (8, 5))\n",
    "\n",
    "    for T in range(300,1273, 2):\n",
    "            RT = R*T\n",
    "            T_cels = T-273\n",
    "            # data from JANAF\n",
    "            dH = p_data.DeltaH(T)# Enthalpy in kJ/mol\n",
    "            dS = (p_data.S(T) - p_data.S(0))# Entropy in J/mol/K\n",
    "            dG_O2_T = dH - T*dS\n",
    "            mu = dG_O2_T + RT*math.log(p)\n",
    "            dmu = 0.5*(mu)*kJ_mol2eV/1000\n",
    "\n",
    "            dmu_list.append(dmu)\n",
    "            T_list.append(T_cels)\n",
    "\n",
    "    plt.plot(T_list, dmu_list, 'ko', alpha = 0.9, markersize = 0.7)\n",
    "    plt.xlabel('T, $^\\circ$C', fontsize = 20, family='Serif')\n",
    "    plt.ylabel('$\\Delta\\mu$(O), eV', fontsize = 20, family='Serif')\n",
    "    plt.xlim(27,1000)\n",
    "    plt.text(T_cels/2, dmu*0.5,'p(O$_2$) = {} atm'.format(p), fontsize = 20, family='Serif')\n",
    "    # plt.ylim(33,1000)\n",
    "    plt.xticks(fontsize = 16)\n",
    "    plt.yticks(fontsize = 16)\n",
    "    plt.show()\n",
    "\n"
   ]
  },
  {
   "cell_type": "code",
   "execution_count": null,
   "metadata": {},
   "outputs": [],
   "source": [
    "dmu_T(p = 0.2) #oxygen partial pressure at 1 atm"
   ]
  },
  {
   "cell_type": "markdown",
   "metadata": {},
   "source": [
    "## 4. Chemical reactions at interfaces"
   ]
  },
  {
   "cell_type": "code",
   "execution_count": null,
   "metadata": {},
   "outputs": [],
   "source": [
    "from pymatgen.analysis.interface_reactions import InterfacialReactivity, GrandPotentialInterfacialReactivity\n",
    "from pymatgen.analysis.phase_diagram import GrandPotentialPhaseDiagram, PhaseDiagram\n",
    "from pymatgen.core import Composition, Element\n",
    "\n",
    "%matplotlib inline"
   ]
  },
  {
   "cell_type": "code",
   "execution_count": null,
   "metadata": {},
   "outputs": [],
   "source": [
    "# Chemical formulae for two solid reactants.\n",
    "reactant1 = \"LiCoO2\"\n",
    "reactant2 = \"Li3PS4\"\n",
    "\n",
    "# Is the system open to an elemental reservoir?\n",
    "grand = True\n",
    "\n",
    "if grand:\n",
    "    # Element in the elemental reservoir.\n",
    "    open_el = \"Co\"\n",
    "    # Relative chemical potential vs. pure substance. Must be non-positive.\n",
    "    relative_mu = -1"
   ]
  },
  {
   "cell_type": "code",
   "execution_count": null,
   "metadata": {},
   "outputs": [],
   "source": [
    "# Get the compositions of the reactants\n",
    "comp1 = Composition(reactant1)\n",
    "comp2 = Composition(reactant2)\n",
    "\n",
    "# Gather all elements involved in the chemical system.\n",
    "elements = [e.symbol for e in comp1.elements + comp2.elements]\n",
    "if grand:\n",
    "    elements.append(open_el)\n",
    "elements = list(set(elements))  # Remove duplicates\n",
    "\n",
    "# Get all entries in the chemical system\n",
    "with MPRester(your_api_key) as mpr:\n",
    "    entries = mpr.get_entries_in_chemsys(elements)\n",
    "\n",
    "# Build a phase diagram using these entries.\n",
    "pd = PhaseDiagram(entries)\n",
    "\n",
    "# For an open system, include the grand potential phase diagram.\n",
    "if grand:\n",
    "    # Get the chemical potential of the pure subtance.\n",
    "    mu = pd.get_transition_chempots(Element(open_el))[0]\n",
    "    # Set the chemical potential in the elemental reservoir.\n",
    "    chempots = {open_el: relative_mu + mu}\n",
    "    # Build the grand potential phase diagram\n",
    "    gpd = GrandPotentialPhaseDiagram(entries, chempots)\n",
    "    # Create InterfacialReactivity object.\n",
    "    interface = GrandPotentialInterfacialReactivity(\n",
    "        comp1,\n",
    "        comp2,\n",
    "        gpd,\n",
    "        norm=True,\n",
    "        include_no_mixing_energy=True,\n",
    "        pd_non_grand=pd,\n",
    "        use_hull_energy=False,\n",
    "    )\n",
    "else:\n",
    "    interface = InterfacialReactivity(\n",
    "        comp1,\n",
    "        comp2,\n",
    "        pd,\n",
    "        norm=True,\n",
    "        include_no_mixing_energy=False,\n",
    "        pd_non_grand=None,\n",
    "        use_hull_energy=False,\n",
    "    )"
   ]
  },
  {
   "cell_type": "code",
   "execution_count": null,
   "metadata": {},
   "outputs": [],
   "source": [
    "# plot diagram\n",
    "plt = interface.plot()\n",
    "plt.show()"
   ]
  },
  {
   "cell_type": "code",
   "execution_count": null,
   "metadata": {},
   "outputs": [],
   "source": [
    "from collections import OrderedDict\n",
    "from pandas import DataFrame\n",
    "\n",
    "critical_rxns = [\n",
    "    OrderedDict(\n",
    "        [\n",
    "            (\"Atomic fraction\", round(ratio, 3)),\n",
    "            (\"Reaction equation\", rxn),\n",
    "            (\"E$_{rxt}$ per mol equation (kJ/mol)\", round(rxn_energy, 1)),\n",
    "            (\"E$_{rxt}$ per reactant atom (eV/atom)\", round(reactivity, 3)),\n",
    "        ]\n",
    "    )\n",
    "    for _, ratio, reactivity, rxn, rxn_energy in interface.get_kinks()\n",
    "]\n",
    "interface_reaction_table = DataFrame(critical_rxns)\n",
    "interface_reaction_table"
   ]
  },
  {
   "cell_type": "markdown",
   "metadata": {},
   "source": [
    "## 5. Pourbaix diagram"
   ]
  },
  {
   "cell_type": "code",
   "execution_count": null,
   "metadata": {},
   "outputs": [],
   "source": [
    "!pip install mpcontribs-client"
   ]
  },
  {
   "cell_type": "code",
   "execution_count": null,
   "metadata": {},
   "outputs": [],
   "source": [
    "# Import necessary tools from pymatgen\n",
    "from pymatgen.analysis.pourbaix_diagram import PourbaixDiagram, PourbaixPlotter\n"
   ]
  },
  {
   "cell_type": "code",
   "execution_count": null,
   "metadata": {},
   "outputs": [],
   "source": [
    "mpr = MPRester(your_api_key)\n"
   ]
  },
  {
   "cell_type": "code",
   "execution_count": null,
   "metadata": {},
   "outputs": [],
   "source": [
    "# Get all pourbaix entries corresponding to the Mn-O-H chemical system.\n",
    "entries = mpr.get_pourbaix_entries([\"Mn\"])\n"
   ]
  },
  {
   "cell_type": "code",
   "execution_count": null,
   "metadata": {},
   "outputs": [],
   "source": [
    "# Construct the PourbaixDiagram object\n",
    "pbx = PourbaixDiagram(entries)\n",
    "# print(entries)"
   ]
  },
  {
   "cell_type": "code",
   "execution_count": null,
   "metadata": {},
   "outputs": [],
   "source": [
    "plotter = PourbaixPlotter(pbx)\n",
    "plotter.get_pourbaix_plot()\n"
   ]
  },
  {
   "cell_type": "markdown",
   "metadata": {},
   "source": [
    "Compare obtained result with fig.34 in https://doi.org/10.59761/RCR5086"
   ]
  },
  {
   "cell_type": "code",
   "execution_count": null,
   "metadata": {},
   "outputs": [],
   "source": []
  }
 ],
 "metadata": {
  "kernelspec": {
   "display_name": "Python310 (default)",
   "language": "python",
   "name": "python310"
  },
  "language_info": {
   "codemirror_mode": {
    "name": "ipython",
    "version": 3
   },
   "file_extension": ".py",
   "mimetype": "text/x-python",
   "name": "python",
   "nbconvert_exporter": "python",
   "pygments_lexer": "ipython3",
   "version": "3.10.15"
  }
 },
 "nbformat": 4,
 "nbformat_minor": 4
}
