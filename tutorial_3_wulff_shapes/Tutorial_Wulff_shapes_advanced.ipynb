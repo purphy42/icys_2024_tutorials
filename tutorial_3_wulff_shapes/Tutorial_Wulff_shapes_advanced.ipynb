{
 "cells": [
  {
   "cell_type": "markdown",
   "id": "b7269dbf",
   "metadata": {
    "editable": true,
    "slideshow": {
     "slide_type": ""
    },
    "tags": []
   },
   "source": [
    "# Tutorial: Wulff shapes (advanced level)"
   ]
  },
  {
   "cell_type": "code",
   "execution_count": null,
   "id": "3fe095b0",
   "metadata": {},
   "outputs": [],
   "source": []
  },
  {
   "cell_type": "code",
   "execution_count": null,
   "id": "1f0308a4",
   "metadata": {},
   "outputs": [],
   "source": []
  },
  {
   "cell_type": "code",
   "execution_count": null,
   "id": "546f95aa",
   "metadata": {
    "editable": true,
    "slideshow": {
     "slide_type": ""
    },
    "tags": []
   },
   "outputs": [],
   "source": [
    "%%capture\n",
    "\n",
    "import os, re\n",
    "import siman #program package to manage DFT calculations https://github.com/dimonaks/siman\n",
    "from siman.calc_manage import smart_structure_read, get_structure_from_matproj\n",
    "from siman.calc_manage import add, res\n",
    "# Update configurations\n",
    "from siman import header\n",
    "from siman.database import write_database, read_database\n",
    "from siman.set_functions import read_vasp_sets\n",
    "from siman.header import db\n",
    "from siman.header import _update_configuration\n",
    "_update_configuration('../project_conf.py')\n",
    "read_database() # read saved database if available\n",
    "from pydoc import importfile\n",
    "project_sets = importfile('../project_sets.py')\n",
    "varset = read_vasp_sets(project_sets.user_vasp_sets, override_global = 1) #read user sets\n",
    "\n",
    "from siman import thermo\n",
    "\n",
    "header.PATH2PROJECT = 'icys_2024/tutorial_3_wulff_shapes'\n",
    "header.PATH2EDITOR = 'notepad.exe'\n",
    "\n",
    "from matplotlib import rc\n",
    "\n",
    "import matplotlib.pyplot as plt\n",
    "%matplotlib inline\n",
    "# plt.rcParams['figure.figsize'] = [3.0, 2.2]\n",
    "plt.rcParams['figure.dpi'] = 300\n"
   ]
  },
  {
   "cell_type": "code",
   "execution_count": null,
   "id": "754734a5",
   "metadata": {
    "editable": true,
    "slideshow": {
     "slide_type": ""
    },
    "tags": []
   },
   "outputs": [],
   "source": [
    "from matplotlib import rc\n",
    "\n",
    "import matplotlib.pyplot as plt\n",
    "%matplotlib inline\n",
    "# plt.rcParams['figure.figsize'] = [3.0, 2.2]\n",
    "plt.rcParams['figure.dpi'] = 300\n",
    "\n",
    "from matplotlib.transforms import blended_transform_factory\n",
    "\n"
   ]
  },
  {
   "cell_type": "code",
   "execution_count": null,
   "id": "7e5442c4",
   "metadata": {},
   "outputs": [],
   "source": [
    "# Only for this tutorial\n",
    "\n",
    "import csv\n",
    "from siman.geo import create_surface2, replic\n",
    "import numpy as np\n",
    "import matplotlib.patches as patches\n",
    "from mpl_toolkits.mplot3d.art3d import Poly3DCollection\n",
    "from mpl_toolkits.mplot3d import Axes3D\n",
    "\n",
    "from IPython.core.display import Image, display\n",
    "from tqdm import tqdm"
   ]
  },
  {
   "cell_type": "code",
   "execution_count": null,
   "id": "970c1c07",
   "metadata": {},
   "outputs": [],
   "source": []
  },
  {
   "cell_type": "code",
   "execution_count": null,
   "id": "615b9a73",
   "metadata": {},
   "outputs": [],
   "source": []
  },
  {
   "cell_type": "markdown",
   "id": "ac2ac68f",
   "metadata": {},
   "source": [
    "# XRD patterns"
   ]
  },
  {
   "cell_type": "code",
   "execution_count": null,
   "id": "60f58d11",
   "metadata": {},
   "outputs": [],
   "source": [
    "from pymatgen.analysis.diffraction.xrd import XRDCalculator, ATOMIC_SCATTERING_PARAMS\n"
   ]
  },
  {
   "cell_type": "code",
   "execution_count": null,
   "id": "46c78fc1",
   "metadata": {
    "editable": true,
    "slideshow": {
     "slide_type": ""
    },
    "tags": []
   },
   "outputs": [],
   "source": [
    "vo2 = smart_structure_read(\"data/vo2.POSCAR\")\n",
    "\n",
    "vo2_pymatgen = vo2.convert2pymatgen()\n"
   ]
  },
  {
   "cell_type": "code",
   "execution_count": null,
   "id": "c13fe632",
   "metadata": {},
   "outputs": [],
   "source": [
    "# XRD calculator and its settings\n",
    "XRDCalculator.AVAILABLE_RADIATION\n",
    "xrdc = XRDCalculator(wavelength=\"CuKa\", symprec=1e-10)\n"
   ]
  },
  {
   "cell_type": "code",
   "execution_count": null,
   "id": "083802fe",
   "metadata": {},
   "outputs": [],
   "source": [
    "xrd_pattern = xrdc.get_pattern(vo2_pymatgen)\n",
    "\n",
    "int_list = xrd_pattern.as_dict()[\"y\"]\n",
    "theta_list = xrd_pattern.as_dict()[\"x\"]\n",
    "\n",
    "hkl_list = []\n",
    "for mill_idx in xrd_pattern.as_dict()[\"hkls\"]: \n",
    "    hkl_cur = mill_idx[0]['hkl'] \n",
    "    hkl_cur = [str(hkl) for hkl in hkl_cur ]\n",
    "    hkl_cur = \"\".join(hkl_cur)\n",
    "    hkl_list.append(hkl_cur)\n",
    "\n",
    "    "
   ]
  },
  {
   "cell_type": "code",
   "execution_count": null,
   "id": "8153241e",
   "metadata": {},
   "outputs": [],
   "source": [
    "xrdc.show_plot(vo2_pymatgen)"
   ]
  },
  {
   "cell_type": "code",
   "execution_count": null,
   "id": "9dc2d443",
   "metadata": {},
   "outputs": [],
   "source": []
  },
  {
   "cell_type": "code",
   "execution_count": null,
   "id": "c3270ddc",
   "metadata": {},
   "outputs": [],
   "source": []
  },
  {
   "cell_type": "markdown",
   "id": "ddd7561d",
   "metadata": {},
   "source": [
    "### Calculated vs [Experimental](https://www.sciencedirect.com/science/article/abs/pii/S004060902030448X) XRD patterns\n",
    "\n"
   ]
  },
  {
   "cell_type": "code",
   "execution_count": null,
   "id": "452b922d",
   "metadata": {},
   "outputs": [],
   "source": [
    "import pandas as pd\n"
   ]
  },
  {
   "cell_type": "code",
   "execution_count": null,
   "id": "d5412a97",
   "metadata": {},
   "outputs": [],
   "source": [
    "exp_data = pd.read_csv('data/xrd_vo2.csv', names=[\"theta\", \"intensity\"])\n",
    "exp_data = exp_data.iloc[2:]"
   ]
  },
  {
   "cell_type": "code",
   "execution_count": null,
   "id": "7e30f02b",
   "metadata": {},
   "outputs": [],
   "source": []
  },
  {
   "cell_type": "code",
   "execution_count": null,
   "id": "22ff7b94",
   "metadata": {},
   "outputs": [],
   "source": [
    "exp_data.head()\n"
   ]
  },
  {
   "cell_type": "code",
   "execution_count": null,
   "id": "9e01d4fb",
   "metadata": {},
   "outputs": [],
   "source": [
    "exp_intensity = [ float(ints) for ints in exp_data[\"intensity\"].to_list() ]\n",
    "exp_theta = [ float(thet) for thet in exp_data[\"theta\"].to_list() ]\n",
    "\n",
    "int_scale = max(theta_list) / max(exp_theta)"
   ]
  },
  {
   "cell_type": "code",
   "execution_count": null,
   "id": "c1517094",
   "metadata": {},
   "outputs": [],
   "source": [
    "# Data visualization\n",
    "\n",
    "fig, ax = plt.subplots(figsize=(6, 2.5))\n",
    "\n",
    "fontsize = 12\n",
    "ax.set_xlabel(r\"$2\\Theta$, $^{\\circ}$\", fontsize=fontsize)\n",
    "ax.set_ylabel(\"Intensity, arb. units\", fontsize=fontsize)\n",
    "ax.xaxis.set_tick_params(labelsize=fontsize)\n",
    "ax.yaxis.set_tick_params(labelsize=fontsize)\n",
    "ax.set_xlim([20, 60])\n",
    "\n",
    "# experimental values\n",
    "ax.plot(np.array(exp_theta), np.array(exp_intensity)*int_scale, '-', c=\"black\", label=r\"Xiaoju, 2020 ($T=300$ K)\")\n",
    "\n",
    "# calculated values\n",
    "ax.bar(np.array(theta_list), np.array(int_list), color=\"red\", width=0.4, label=r\"Calculated ($T=0$ K)\")\n",
    "\n",
    "# Annotate at the relative positions\n",
    "tform = blended_transform_factory(ax.transData, ax.transAxes)\n",
    "y_shift = 2.5\n",
    "\n",
    "for idx, theta in enumerate(theta_list):\n",
    "    ax.annotate(hkl_list[idx], (theta, int_list[idx]+y_shift), fontsize=fontsize-4,\n",
    "            ha='center', va='center', color='blue', )\n",
    "\n",
    "ax.legend(fontsize=fontsize-4, edgecolor=\"black\")\n",
    "\n",
    "plt.show()\n"
   ]
  },
  {
   "cell_type": "code",
   "execution_count": null,
   "id": "9a0ca445",
   "metadata": {},
   "outputs": [],
   "source": []
  },
  {
   "cell_type": "code",
   "execution_count": null,
   "id": "4c48c6c3",
   "metadata": {},
   "outputs": [],
   "source": []
  },
  {
   "cell_type": "markdown",
   "id": "5b40e387",
   "metadata": {},
   "source": [
    "## Surface energies with universal potentials"
   ]
  },
  {
   "cell_type": "code",
   "execution_count": null,
   "id": "f57b3f5e",
   "metadata": {},
   "outputs": [],
   "source": [
    "def parse_chemical_formula(formula):\n",
    "    # Regular expression to match element symbols followed by an optional number\n",
    "    pattern = r\"([A-Z][a-z]*)(\\d*)\"\n",
    "    elements = re.findall(pattern, formula)\n",
    "    \n",
    "    # Convert the matches to a dictionary with element counts\n",
    "    parsed_formula = {}\n",
    "    for (element, count) in elements:\n",
    "        parsed_formula[element] = int(count) if count else 1  # Default to 1 if count is missing\n",
    "\n",
    "    return parsed_formula\n"
   ]
  },
  {
   "cell_type": "code",
   "execution_count": null,
   "id": "7c08512b-a691-4e22-a418-abb8fdc693b0",
   "metadata": {},
   "outputs": [],
   "source": [
    "# !pip install ase -U"
   ]
  },
  {
   "cell_type": "code",
   "execution_count": null,
   "id": "912cd922",
   "metadata": {},
   "outputs": [],
   "source": [
    "# install MLUP(machine-learning universal potentials). Here, we use SevenNet (https://github.com/MDIL-SNU/SevenNet)\n",
    "\n",
    "from sevenn.sevennet_calculator import SevenNetCalculator"
   ]
  },
  {
   "cell_type": "code",
   "execution_count": null,
   "id": "2f11b906",
   "metadata": {},
   "outputs": [],
   "source": [
    "from ase.optimize import FIRE  # read more here: https://wiki.fysik.dtu.dk/ase/_modules/ase/optimize/fire.html\n",
    "from ase.io import read, write\n"
   ]
  },
  {
   "cell_type": "code",
   "execution_count": null,
   "id": "5d740e02",
   "metadata": {},
   "outputs": [],
   "source": []
  },
  {
   "cell_type": "code",
   "execution_count": null,
   "id": "2c1436bc",
   "metadata": {},
   "outputs": [],
   "source": [
    "sevennet_0_cal = SevenNetCalculator(\"7net-0\", device='cpu') # we use CPUs for our calculations. \n",
    "                                                            # GPUs with CUDA are also an option.\n"
   ]
  },
  {
   "cell_type": "code",
   "execution_count": null,
   "id": "4c97bd79",
   "metadata": {},
   "outputs": [],
   "source": []
  },
  {
   "cell_type": "code",
   "execution_count": null,
   "id": "aaf51cf0",
   "metadata": {},
   "outputs": [],
   "source": [
    "from pymatgen.core import Lattice, Structure, Molecule\n",
    "from pymatgen.vis.structure_vtk import StructureVis\n",
    "\n",
    "from pymatgen.io.ase import AseAtomsAdaptor\n",
    "from ase.visualize import view\n",
    "from ase.visualize.plot import plot_atoms\n",
    "\n",
    "from pymatgen.core.surface import get_symmetrically_distinct_miller_indices\n",
    "from pymatgen.core.surface import SlabGenerator\n"
   ]
  },
  {
   "cell_type": "code",
   "execution_count": null,
   "id": "74c957b8",
   "metadata": {},
   "outputs": [],
   "source": []
  },
  {
   "cell_type": "code",
   "execution_count": null,
   "id": "001a90f5",
   "metadata": {},
   "outputs": [],
   "source": [
    "zr3o = db['zr3o.su', \"bulk_eos\", 100].copy().end\n",
    "zr3o_pmg = zr3o.convert2pymatgen()"
   ]
  },
  {
   "cell_type": "code",
   "execution_count": null,
   "id": "58786bfb",
   "metadata": {},
   "outputs": [],
   "source": [
    "mil_list = get_symmetrically_distinct_miller_indices(structure = zr3o_pmg, max_index = 2, return_hkil = False)"
   ]
  },
  {
   "cell_type": "code",
   "execution_count": null,
   "id": "36750b98",
   "metadata": {},
   "outputs": [],
   "source": []
  },
  {
   "cell_type": "code",
   "execution_count": null,
   "id": "d886f00a",
   "metadata": {},
   "outputs": [],
   "source": []
  },
  {
   "cell_type": "code",
   "execution_count": null,
   "id": "8d5b71a0",
   "metadata": {
    "scrolled": true
   },
   "outputs": [],
   "source": [
    "en_list = []\n",
    "name_list = []\n",
    "formula_list = []\n",
    "suf_area_list = []\n",
    "\n",
    "for mil_idx in tqdm(mil_list):\n",
    "    slabgen = SlabGenerator(initial_structure = zr3o_pmg, miller_index = mil_idx, min_slab_size = 10, \n",
    "                            min_vacuum_size = 10, lll_reduce = True, center_slab = False, primitive = False)\n",
    "\n",
    "    # Number of terminations for the given Miller index\n",
    "    slabs = slabgen.get_slabs()\n",
    "\n",
    "    # Current miller index as string \n",
    "    mil_cur = [ str(x) for x in mil_idx ]  \n",
    "    mil_cur = \"\".join(mil_cur)\n",
    "\n",
    "    for idx, slab in enumerate(slabs):\n",
    "        calc_name = mil_cur + \".\" + str(idx)\n",
    "        st_read = read(\"data/zr3o_surfaces/\" + calc_name +\".POSCAR\" )\n",
    "\n",
    "        if 0:\n",
    "            # uncomment if you want to perform calculations by your own\n",
    "            st_read.calc = sevennet_0_cal\n",
    "            optim = FIRE(st_read)\n",
    "            optim.run(fmax = 0.01)\n",
    "    \n",
    "            name_list.append(calc_name)\n",
    "            en_list.append(optim.optimizable.get_potential_energy())\n",
    "            formula_list.append(st_read.get_chemical_formula())\n",
    "            suf_area_list.append(np.linalg.norm(np.cross(st_read.get_cell()[0], st_read.get_cell()[1])))\n",
    "\n",
    "    "
   ]
  },
  {
   "cell_type": "code",
   "execution_count": null,
   "id": "fa6c0a35",
   "metadata": {},
   "outputs": [],
   "source": []
  },
  {
   "cell_type": "code",
   "execution_count": null,
   "id": "ac8af7e2",
   "metadata": {},
   "outputs": [],
   "source": []
  },
  {
   "cell_type": "code",
   "execution_count": null,
   "id": "755833fb",
   "metadata": {},
   "outputs": [],
   "source": []
  },
  {
   "cell_type": "markdown",
   "id": "02221d7a",
   "metadata": {},
   "source": [
    "## Calculate Zr3O and O2 energies with SevenNet "
   ]
  },
  {
   "cell_type": "code",
   "execution_count": null,
   "id": "4ff6a5a8",
   "metadata": {},
   "outputs": [],
   "source": [
    "zr3o = db[\"zr3o.su\", \"bulk_eos\", 100].copy().end\n",
    "\n",
    "o2 = db[\"o2\", \"o2_box\", 1].copy().end\n"
   ]
  },
  {
   "cell_type": "code",
   "execution_count": null,
   "id": "712311f9",
   "metadata": {},
   "outputs": [],
   "source": [
    "zr3o = zr3o.convert2pymatgen()\n",
    "zr3o = AseAtomsAdaptor.get_atoms(zr3o)\n",
    "\n",
    "o2 = o2.convert2pymatgen()\n",
    "o2 = AseAtomsAdaptor.get_atoms(o2)\n"
   ]
  },
  {
   "cell_type": "code",
   "execution_count": null,
   "id": "4e0c649d",
   "metadata": {},
   "outputs": [],
   "source": [
    "# Calculate energies of O2 and ZrO phases\n",
    "if 1:\n",
    "    zr3o.calc = sevennet_0_cal\n",
    "    optim_zr3o = FIRE(zr3o)\n",
    "    optim_zr3o.run(fmax = 0.01)\n",
    "    \n",
    "    o2.calc = sevennet_0_cal\n",
    "    optim_o2 = FIRE(o2)\n",
    "    optim_o2.run(fmax = 0.01)\n",
    "\n"
   ]
  },
  {
   "cell_type": "code",
   "execution_count": null,
   "id": "6f3736be",
   "metadata": {},
   "outputs": [],
   "source": []
  },
  {
   "cell_type": "code",
   "execution_count": null,
   "id": "0c82bb67",
   "metadata": {},
   "outputs": [],
   "source": [
    "# Append data on Zr3O and O2 to csv file\n",
    "if 0:\n",
    "    with open('data/zr3o_sevennet_all.csv', 'a') as f:\n",
    "        o2_data = \"o2\" + \",\" + str(optim_o2.optimizable.get_potential_energy()) + \",\" + o2.get_chemical_formula() + \"\\n\" \n",
    "        zr3o_data = \"zr3o\" + \",\" + str(optim_zr3o.optimizable.get_potential_energy()) + \",\" + zr3o.get_chemical_formula() + \"\\n\"  \n",
    "        \n",
    "        f.write(o2_data)\n",
    "        f.write(zr3o_data)\n"
   ]
  },
  {
   "cell_type": "code",
   "execution_count": null,
   "id": "8b4bbebd",
   "metadata": {},
   "outputs": [],
   "source": []
  },
  {
   "cell_type": "code",
   "execution_count": null,
   "id": "4c7dac57",
   "metadata": {},
   "outputs": [],
   "source": []
  },
  {
   "cell_type": "markdown",
   "id": "934c03cb",
   "metadata": {},
   "source": [
    "## Visualization of data, which were calculated for you and located in data/"
   ]
  },
  {
   "cell_type": "code",
   "execution_count": null,
   "id": "15fc4eb6",
   "metadata": {},
   "outputs": [],
   "source": [
    "import pandas as pd"
   ]
  },
  {
   "cell_type": "code",
   "execution_count": null,
   "id": "10e56be6",
   "metadata": {},
   "outputs": [],
   "source": [
    "data_snn = pd.read_csv('data/zr3o_sevennet_all.csv', names=[\"surface\", \"energy\", \"formula\", \"area\"])\n",
    "\n",
    "data_dft = pd.read_csv('data/zr3o_dft.csv', names=[\"surface\", \"energy\", \"formula\", \"area\"])\n"
   ]
  },
  {
   "cell_type": "code",
   "execution_count": null,
   "id": "c5945f0f",
   "metadata": {},
   "outputs": [],
   "source": [
    "# SNN data\n",
    "row_o2_snn = data_snn.loc[data_snn[\"surface\"] == \"o2\"]\n",
    "data_o2_snn = row_o2_snn.values[0]\n",
    "\n",
    "row_zr3o_snn = data_snn.loc[data_snn[\"surface\"] == \"zr3o\"]\n",
    "data_zr3o_snn = row_zr3o_snn.values[0]\n",
    "\n",
    "# DFT data\n",
    "row_o2_dft = data_dft.loc[data_dft[\"surface\"] == \"o2\"]\n",
    "data_o2_dft = row_o2_dft.values[0]\n",
    "\n",
    "row_zr3o_dft = data_dft.loc[data_dft[\"surface\"] == \"zr3o\"]\n",
    "data_zr3o_dft = row_zr3o_dft.values[0]\n",
    "\n"
   ]
  },
  {
   "cell_type": "code",
   "execution_count": null,
   "id": "a6bccc4b",
   "metadata": {},
   "outputs": [],
   "source": [
    "# Drop lines with O2 and Zr3O\n",
    "data_snn = data_snn[data_snn[\"surface\"] != \"o2\" ]\n",
    "data_snn = data_snn[data_snn[\"surface\"] != \"zr3o\" ]\n",
    "\n",
    "data_dft = data_dft[data_dft[\"surface\"] != \"o2\" ]\n",
    "data_dft = data_dft[data_dft[\"surface\"] != \"zr3o\" ]\n"
   ]
  },
  {
   "cell_type": "code",
   "execution_count": null,
   "id": "3c79a3a2",
   "metadata": {},
   "outputs": [],
   "source": []
  },
  {
   "cell_type": "code",
   "execution_count": null,
   "id": "336df86c",
   "metadata": {},
   "outputs": [],
   "source": []
  },
  {
   "cell_type": "markdown",
   "id": "c713640b",
   "metadata": {},
   "source": [
    "# Plot surface energies"
   ]
  },
  {
   "cell_type": "code",
   "execution_count": null,
   "id": "594fca5f",
   "metadata": {},
   "outputs": [],
   "source": [
    "T_points = 6\n",
    "\n",
    "T_min = 200\n",
    "T_max = 1000\n",
    "T_list = np.linspace(T_min, T_max, T_points) \n",
    "P = 0.21 # partial pressure of oxygen during synthesis\n",
    "\n",
    "o_list_dft = []\n",
    "zr_list_dft = []\n",
    "e_zr3o_dft = float(data_zr3o_dft[1]) / 2\n",
    "e_o_dft = float(data_o2_dft[1]) / 2\n",
    "\n",
    "o_list_snn = []\n",
    "zr_list_snn = []\n",
    "e_zr3o_snn = float(data_zr3o_snn[1]) / 2\n",
    "e_o_snn = float(data_o2_snn[1]) / 2\n",
    "\n",
    "for T in T_list:\n",
    "    o_chem_dft =  e_o_dft + (thermo.O2(T=T, c2ev=1, P=P)[0] / 2) + 0.68\n",
    "    zr_chem_dft = (e_zr3o_dft - o_chem_dft) / 3\n",
    "    o_list_dft.append(o_chem_dft)\n",
    "    zr_list_dft.append(zr_chem_dft)\n",
    "\n",
    "    # For SevenNet\n",
    "    o_chem_snn = e_o_snn + (thermo.O2(T=T, c2ev=1, P=P)[0] / 2) + 0.68\n",
    "    zr_chem_snn = (e_zr3o_snn - o_chem_snn) / 3\n",
    "    o_list_snn.append(o_chem_snn)\n",
    "    zr_list_snn.append(zr_chem_snn)\n",
    "\n",
    "    \n",
    "# Plot data\n",
    "fig, ax = plt.subplots(figsize=(3, 2.2) )\n",
    "fontsize = 7\n",
    "ax.set_xlabel(\"Temperature, K\", fontsize=fontsize)\n",
    "ax.set_ylabel(\"Chemical potential, eV\", fontsize=fontsize)\n",
    "ax.xaxis.set_tick_params(labelsize=fontsize)\n",
    "ax.yaxis.set_tick_params(labelsize=fontsize)\n",
    "\n",
    "# DFT results\n",
    "ax.plot(T_list, o_list_dft, '--', c='r', label=r\"$\\mu_{\\mathrm{O}}$ (DFT)\")\n",
    "ax.plot(T_list, zr_list_dft, '--', c='b', label=r\"$\\mu_{\\mathrm{Zr}}$ (DFT)\")\n",
    "\n",
    "# SNN results\n",
    "ax.plot(T_list, o_list_snn, '-', c='r', label=r\"$\\mu_{\\mathrm{O}}$ (SNN)\")\n",
    "ax.plot(T_list, zr_list_snn, '-', c='b', label=r\"$\\mu_{\\mathrm{Zr}}$ (SNN)\")\n",
    "\n",
    "# Synthesis temperatures are 240-350 C, see https://doi.org/10.1016/j.jssc.2013.10.023\n",
    "ylim = ax.get_ylim()\n",
    "xlim = ax.get_xlim()\n",
    "ax.set_ylim(ylim[0], ylim[1]*1.05)\n",
    "ylim = ax.get_ylim()\n",
    "\n",
    "p = patches.Rectangle((240+273, ylim[0]), (350-240), ylim[1]-ylim[0], linewidth=0, alpha=0.1, facecolor='none', zorder=1)\n",
    "p.set_color('black')\n",
    "ax.add_patch(p)\n",
    "ax.set_xlim([T_min, T_max])\n",
    "\n",
    "ax.legend(fontsize=fontsize-1, edgecolor=\"black\")\n",
    "fig.tight_layout()\n",
    "fig.show()\n"
   ]
  },
  {
   "cell_type": "code",
   "execution_count": null,
   "id": "ccda1852",
   "metadata": {},
   "outputs": [],
   "source": []
  },
  {
   "cell_type": "code",
   "execution_count": null,
   "id": "5cd902f0",
   "metadata": {},
   "outputs": [],
   "source": [
    "# Synthesis conditions\n",
    "T_synth_snn = T_list[2] \n",
    "T_synth_dft = T_list[2] \n",
    "\n",
    "chem_list_snn = {\"O\": o_list_snn[2], \"Zr\": zr_list_snn[2]}\n",
    "chem_list_dft = {\"O\": o_list_dft[2], \"Zr\": zr_list_dft[2]}\n",
    "\n",
    "print(\"Let's say that we want synthesis at temperature of {} K\".format(T_synth_snn))\n"
   ]
  },
  {
   "cell_type": "code",
   "execution_count": null,
   "id": "51d616ea",
   "metadata": {},
   "outputs": [],
   "source": []
  },
  {
   "cell_type": "code",
   "execution_count": null,
   "id": "c79d3e7a",
   "metadata": {},
   "outputs": [],
   "source": [
    "# For SevenNet\n",
    "names_list_snn = []\n",
    "tot_en_list_snn = []\n",
    "suf_en_list_snn = []\n",
    "fml_list_snn = []\n",
    "suf_area_list_snn = []\n",
    "\n",
    "\n",
    "for index, row in data_snn.iterrows():\n",
    "    suf_en_cur = float(row.values[1])          \n",
    "    fml_cur = parse_chemical_formula( row.values[2] ) \n",
    "    suf_area_cur = float(row.values[3])          \n",
    "\n",
    "    for el in [\"Zr\", \"O\"]:\n",
    "        suf_en_cur -= fml_cur[el] * chem_list_snn[el]\n",
    "\n",
    "    suf_en_cur /= 2*suf_area_cur\n",
    "    suf_en_cur *= header.eV_A_to_J_m\n",
    "\n",
    "    suf_en_list_snn.append(suf_en_cur)\n",
    "    tot_en_list_snn.append(float(row.values[1]))\n",
    "    names_list_snn.append(row.values[0])\n",
    "    fml_list_snn.append(fml_cur)\n",
    "    suf_area_list_snn.append(suf_area_cur)\n",
    "\n",
    "# For DFT\n",
    "names_list_dft = []\n",
    "tot_en_list_dft = []\n",
    "suf_en_list_dft = []\n",
    "fml_list_dft = []\n",
    "suf_area_list_dft = []\n",
    "\n",
    "for index, row in data_dft.iterrows():\n",
    "    suf_en_cur = float(row.values[1])          \n",
    "    fml_cur = parse_chemical_formula( row.values[2] ) \n",
    "    suf_area_cur = float(row.values[3])          \n",
    "\n",
    "    for el in [\"Zr\", \"O\"]:\n",
    "        suf_en_cur -= fml_cur[el] * chem_list_dft[el]\n",
    "\n",
    "    suf_en_cur /= 2*suf_area_cur\n",
    "    suf_en_cur *= header.eV_A_to_J_m\n",
    "\n",
    "    suf_en_list_dft.append(suf_en_cur)\n",
    "    tot_en_list_dft.append(float(row.values[1]))\n",
    "    names_list_dft.append(row.values[0])\n",
    "    fml_list_dft.append(fml_cur)\n",
    "    suf_area_list_dft.append(suf_area_cur)\n",
    "    \n"
   ]
  },
  {
   "cell_type": "code",
   "execution_count": null,
   "id": "97352449",
   "metadata": {},
   "outputs": [],
   "source": []
  },
  {
   "cell_type": "code",
   "execution_count": null,
   "id": "e7dcea52",
   "metadata": {},
   "outputs": [],
   "source": []
  },
  {
   "cell_type": "code",
   "execution_count": null,
   "id": "75c619d6",
   "metadata": {},
   "outputs": [],
   "source": [
    "# Sufrace and total energies for SevenNet \n",
    "\n",
    "dir_suf_snn = {}\n",
    "dir_en_snn = {}\n",
    "\n",
    "for idx, name in enumerate(names_list_snn):\n",
    "    name_cur = name.split(\".\")[0]\n",
    "    if name_cur not in dir_suf_snn.keys():\n",
    "        dir_suf_snn[name_cur] = [suf_en_list_snn[idx]]\n",
    "        dir_en_snn[name_cur] = [tot_en_list_snn[idx]]\n",
    "    else:\n",
    "        dir_suf_snn[name_cur].append(suf_en_list_snn[idx])\n",
    "        dir_en_snn[name_cur].append(tot_en_list_snn[idx])\n",
    "    \n",
    "# Sufrace and total energies for DFT \n",
    "dir_suf_dft = {}\n",
    "dir_en_dft = {}\n",
    "\n",
    "for idx, name in enumerate(names_list_dft):\n",
    "    name_cur = name.split(\".\")[0]\n",
    "    if name_cur not in dir_suf_dft.keys():\n",
    "        dir_suf_dft[name_cur] = [suf_en_list_dft[idx]]\n",
    "        dir_en_dft[name_cur] = [tot_en_list_dft[idx]]\n",
    "    else:\n",
    "        dir_suf_dft[name_cur].append(suf_en_list_dft[idx])\n",
    "        dir_en_dft[name_cur].append(tot_en_list_dft[idx])    \n"
   ]
  },
  {
   "cell_type": "code",
   "execution_count": null,
   "id": "01bba410",
   "metadata": {},
   "outputs": [],
   "source": []
  },
  {
   "cell_type": "code",
   "execution_count": null,
   "id": "d94a4f7b",
   "metadata": {},
   "outputs": [],
   "source": [
    "fig, (ax1, ax2) = plt.subplots(figsize=(5, 4.5), ncols=1, nrows=2 )\n",
    "fontsize = 7\n",
    "\n",
    "ax1.set_title(\"DFT results\", fontsize=fontsize+2)\n",
    "ax1.set_ylabel(r\"Surface energy, J/m$^2$\", fontsize=fontsize+2)\n",
    "ax1.xaxis.set_tick_params(labelsize=fontsize)\n",
    "ax1.yaxis.set_tick_params(labelsize=fontsize)\n",
    "\n",
    "ax2.set_title(\"SevenNet results\", fontsize=fontsize+2)\n",
    "ax2.set_ylabel(r\"Surface energy, J/m$^2$\", fontsize=fontsize+2)\n",
    "ax2.xaxis.set_tick_params(labelsize=fontsize)\n",
    "ax2.yaxis.set_tick_params(labelsize=fontsize)\n",
    "\n",
    "\n",
    "labels, data_plot = dir_suf_dft.keys(), dir_suf_dft.values()\n",
    "\n",
    "ax2.boxplot(data_plot)\n",
    "ax2.set_xticks(range(1, len(labels) + 1), labels, fontsize=fontsize)\n",
    "ax2.set_xlabel(\"Surface orientation\", fontsize=fontsize+2)\n",
    "\n",
    "labels, data_plot = dir_suf_snn.keys(), dir_suf_snn.values()\n",
    "\n",
    "ax1.boxplot(data_plot)\n",
    "ax1.set_xticks(range(1, len(labels) + 1), labels, fontsize=fontsize)\n",
    "ax1.set_xlabel(\"Surface orientation\", fontsize=fontsize+2)\n",
    "\n",
    "fig.tight_layout()\n",
    "plt.show()\n"
   ]
  },
  {
   "cell_type": "code",
   "execution_count": null,
   "id": "f53b5188",
   "metadata": {},
   "outputs": [],
   "source": []
  },
  {
   "cell_type": "code",
   "execution_count": null,
   "id": "bb3e1610",
   "metadata": {},
   "outputs": [],
   "source": []
  },
  {
   "cell_type": "markdown",
   "id": "ad78cc75",
   "metadata": {},
   "source": [
    "# Compare DFT vs SevenNet results"
   ]
  },
  {
   "cell_type": "markdown",
   "id": "6fbd4f61",
   "metadata": {},
   "source": [
    "## Slabs' total energies"
   ]
  },
  {
   "cell_type": "code",
   "execution_count": null,
   "id": "c4d961e0",
   "metadata": {},
   "outputs": [],
   "source": [
    "colors_list = [\"tomato\", \"royalblue\", \"magenta\", \"lawngreen\", \"cyan\", \"silver\", \"purple\",\n",
    "               \"pink\", \"peru\", \"black\", \"forestgreen\", \"white\", \"orange\", \"indigo\"]"
   ]
  },
  {
   "cell_type": "code",
   "execution_count": null,
   "id": "ba1aa312",
   "metadata": {},
   "outputs": [],
   "source": [
    "diff_list = []\n",
    "\n",
    "fig, ax = plt.subplots(figsize=(2, 3.2), nrows=2, ncols=1 )\n",
    "\n",
    "fontsize = 6\n",
    "for i in [0,1]:\n",
    "    ax[i].set_xlabel(\"DFT total energy, eV\", fontsize=fontsize)\n",
    "    ax[i].set_ylabel(\"SevenNet total energy, eV\", fontsize=fontsize)\n",
    "    ax[i].xaxis.set_tick_params(labelsize=fontsize)\n",
    "    ax[i].yaxis.set_tick_params(labelsize=fontsize)\n",
    "    \n",
    "    for idx, key in enumerate(dir_en_dft.keys()):\n",
    "        values_dft = dir_en_dft[key]\n",
    "        values_snn = dir_en_snn[key]\n",
    "        ax[i].scatter(values_dft, values_snn, c=colors_list[idx], s=10, label=key, edgecolor=\"black\", zorder=2)\n",
    "        diff_list += (np.array(values_dft) - np.array(values_snn)).tolist()  # difference between two methods\n",
    "    \n",
    "    ylim = ax[i].get_ylim()\n",
    "    xlim = ax[i].get_xlim()\n",
    "    \n",
    "    ax[i].plot([xlim[0], xlim[1]], [xlim[0], xlim[1]], '-', c=\"red\", lw=1.0, zorder=1  )\n",
    "    ax[i].legend(fontsize=fontsize-2, edgecolor=\"black\", ncols=3)\n",
    "    ax[i].plot([xlim[0], xlim[1]], [xlim[0], xlim[1]], '-', c=\"red\", lw=1.0, zorder=1  )\n",
    "\n",
    "    if (i == 1):\n",
    "        lims_cut = [-280, -265]\n",
    "        ax[i].set_ylim(lims_cut)\n",
    "        ax[i].set_xlim(lims_cut)\n",
    "        \n",
    "\n",
    "plt.show()\n",
    "\n"
   ]
  },
  {
   "cell_type": "code",
   "execution_count": null,
   "id": "ff4238a4",
   "metadata": {},
   "outputs": [],
   "source": []
  },
  {
   "cell_type": "code",
   "execution_count": null,
   "id": "74b1d4bc",
   "metadata": {},
   "outputs": [],
   "source": []
  },
  {
   "cell_type": "code",
   "execution_count": null,
   "id": "114d886c",
   "metadata": {},
   "outputs": [],
   "source": []
  },
  {
   "cell_type": "code",
   "execution_count": null,
   "id": "d5902c1e",
   "metadata": {},
   "outputs": [],
   "source": [
    "fig, ax = plt.subplots(figsize=(2.5, 1.5) )\n",
    "\n",
    "fontsize = 7\n",
    "ax.set_xlabel(\"Number of ticks\", fontsize=fontsize)\n",
    "ax.set_ylabel(r\"$\\Delta$(DFT vs. SevenNet), eV\", fontsize=fontsize)\n",
    "ax.xaxis.set_tick_params(labelsize=fontsize)\n",
    "ax.yaxis.set_tick_params(labelsize=fontsize)\n",
    "\n",
    "ax.hist(diff_list, bins=20, rwidth=5, color=\"royalblue\", edgecolor=\"black\")\n",
    "\n",
    "plt.show()\n"
   ]
  },
  {
   "cell_type": "code",
   "execution_count": null,
   "id": "4a4cb574",
   "metadata": {},
   "outputs": [],
   "source": []
  },
  {
   "cell_type": "code",
   "execution_count": null,
   "id": "3358270e",
   "metadata": {},
   "outputs": [],
   "source": []
  },
  {
   "cell_type": "markdown",
   "id": "b655addf",
   "metadata": {},
   "source": [
    "## Surface energies"
   ]
  },
  {
   "cell_type": "code",
   "execution_count": null,
   "id": "df3fe643",
   "metadata": {},
   "outputs": [],
   "source": [
    "diff_list = []\n",
    "idx_list_snn = []\n",
    "idx_list_dft = []\n",
    "\n",
    "fig, ax = plt.subplots(figsize=(3, 1.6) )\n",
    "\n",
    "fontsize = 6\n",
    "ax.set_xlabel(r\"DFT surface energies, J/m$^2$\", fontsize=fontsize)\n",
    "ax.set_ylabel(r\"SeveNet surface energies, J/m$^2$\", fontsize=fontsize)\n",
    "ax.xaxis.set_tick_params(labelsize=fontsize)\n",
    "ax.yaxis.set_tick_params(labelsize=fontsize)\n",
    "\n",
    "for idx, key in enumerate(dir_suf_dft.keys()):\n",
    "    values_dft = dir_suf_dft[key]\n",
    "    list_temp = list(range(len(values_dft)))\n",
    "    list_temp = [x for _,x in sorted(zip(values_dft,list_temp))]\n",
    "    idx_list_dft.append(list_temp)\n",
    "    values_snn = dir_suf_snn[key]\n",
    "    list_temp = list(range(len(values_snn)))\n",
    "    list_temp = [x for _,x in sorted(zip(values_snn,list_temp))]\n",
    "    idx_list_snn.append(list_temp)\n",
    "    # plot data\n",
    "    ax.scatter(values_dft, values_snn, c=colors_list[idx], s=20, label=key, edgecolor=\"black\", zorder=2)\n",
    "    diff_list += (np.array(values_dft) - np.array(values_snn)).tolist()  #difference between two methods\n",
    "\n",
    "ylim = ax.get_ylim()\n",
    "xlim = ax.get_xlim()\n",
    "\n",
    "ax.plot([xlim[0], xlim[1]], [xlim[0], xlim[1]], '-', c=\"red\", lw=1.0, zorder=1  )\n",
    "\n",
    "ax.legend(fontsize=fontsize-2, edgecolor=\"black\", ncols=3)\n",
    "plt.show()\n",
    "\n"
   ]
  },
  {
   "cell_type": "code",
   "execution_count": null,
   "id": "b4c4316d",
   "metadata": {},
   "outputs": [],
   "source": []
  },
  {
   "cell_type": "code",
   "execution_count": null,
   "id": "675abe9b",
   "metadata": {},
   "outputs": [],
   "source": []
  },
  {
   "cell_type": "code",
   "execution_count": null,
   "id": "1ba3c9fd",
   "metadata": {},
   "outputs": [],
   "source": [
    "fig, ax = plt.subplots(figsize=(2.5, 1.5) )\n",
    "\n",
    "fontsize = 7\n",
    "ax.set_xlabel(\"Number of ticks\", fontsize=fontsize)\n",
    "ax.set_ylabel(r\"$\\Delta$(DFT vs. SevenNet), J/m$^2$\", fontsize=fontsize)\n",
    "ax.xaxis.set_tick_params(labelsize=fontsize)\n",
    "ax.yaxis.set_tick_params(labelsize=fontsize)\n",
    "\n",
    "ax.hist(diff_list, bins=20, rwidth=5, color=\"royalblue\", edgecolor=\"black\")\n",
    "\n",
    "plt.show()\n"
   ]
  },
  {
   "cell_type": "code",
   "execution_count": null,
   "id": "42c355d7",
   "metadata": {},
   "outputs": [],
   "source": []
  },
  {
   "cell_type": "code",
   "execution_count": null,
   "id": "26d42d67",
   "metadata": {},
   "outputs": [],
   "source": []
  },
  {
   "cell_type": "markdown",
   "id": "2fcc2548",
   "metadata": {},
   "source": [
    "# How well can we predict the most stable termination?"
   ]
  },
  {
   "cell_type": "code",
   "execution_count": null,
   "id": "9fc1e9f3",
   "metadata": {},
   "outputs": [],
   "source": [
    "num_steps = 4\n",
    "conf_values = []\n",
    "\n",
    "for step in list(range(1, num_steps+1, 1)):\n",
    "    bool_ind = []\n",
    "    for idx, miller in enumerate(idx_list_dft):\n",
    "        idx_min = miller[0]\n",
    "        # if min termination falls into the specified range\n",
    "        if ( step <= len(idx_list_snn[idx]) ):\n",
    "            if (idx_min in idx_list_snn[idx][0:step]) :\n",
    "                bool_ind.append(1)\n",
    "            else:\n",
    "                bool_ind.append(0)\n",
    "        else:\n",
    "            bool_ind.append(1)\n",
    "            \n",
    "    conf_values.append(bool_ind)\n",
    "    \n"
   ]
  },
  {
   "cell_type": "code",
   "execution_count": null,
   "id": "28fb7c31",
   "metadata": {},
   "outputs": [],
   "source": [
    "conf_percent = [sum(idx)/len(idx) for idx in conf_values]"
   ]
  },
  {
   "cell_type": "code",
   "execution_count": null,
   "id": "2de1f61b",
   "metadata": {},
   "outputs": [],
   "source": [
    "fig, ax = plt.subplots(figsize=(2.5, 1.5) )\n",
    "\n",
    "fontsize = 6\n",
    "ax.set_ylabel(\"Correctly found terminations, %\", fontsize=fontsize)\n",
    "ax.set_xlabel(r\"Termination confidence interval\", fontsize=fontsize)\n",
    "ax.xaxis.set_tick_params(labelsize=fontsize)\n",
    "ax.yaxis.set_tick_params(labelsize=fontsize)\n",
    "\n",
    "ax.bar(list(range(1, num_steps+1, 1)), np.array(conf_percent)*100, width=0.5, edgecolor=\"black\", color=\"royalblue\", )\n",
    "\n",
    "plt.show()\n"
   ]
  },
  {
   "cell_type": "code",
   "execution_count": null,
   "id": "44ecfe9d",
   "metadata": {},
   "outputs": [],
   "source": []
  },
  {
   "cell_type": "code",
   "execution_count": null,
   "id": "84935384",
   "metadata": {},
   "outputs": [],
   "source": []
  },
  {
   "cell_type": "code",
   "execution_count": null,
   "id": "59944ab2",
   "metadata": {},
   "outputs": [],
   "source": []
  },
  {
   "cell_type": "markdown",
   "id": "12ded89f",
   "metadata": {},
   "source": [
    "# Wulff shapes: DFT vs MLUP "
   ]
  },
  {
   "cell_type": "code",
   "execution_count": null,
   "id": "5c71eb1a",
   "metadata": {},
   "outputs": [],
   "source": [
    "from pymatgen.analysis.wulff import WulffShape\n",
    "\n"
   ]
  },
  {
   "cell_type": "code",
   "execution_count": null,
   "id": "f9dea9ac",
   "metadata": {},
   "outputs": [],
   "source": [
    "def calc_suf_en(en, ch_fml, suf_area, chem_pots):\n",
    "    \"\"\"\n",
    "    INPUTS:\n",
    "        en (float) - total energy of a slab\n",
    "        ch_fml (dir) - dictionary of chemical elements in structure \n",
    "        suf_area_list_dft (float) - surface energies\n",
    "        chem_pots (dir) - dictionary of chemical potentials\n",
    "    RETURNS:\n",
    "        suf_en (float) - surface energy in J/m2\n",
    "    \"\"\"\n",
    "    \n",
    "    suf_en = en\n",
    "    for el in chem_pots.keys():\n",
    "        suf_en -= chem_pots[el] * ch_fml[el]   \n",
    "\n",
    "    suf_en /= 2*suf_area\n",
    "    suf_en *= header.eV_A_to_J_m\n",
    "\n",
    "    return suf_en\n",
    "\n",
    "    "
   ]
  },
  {
   "cell_type": "code",
   "execution_count": null,
   "id": "0b922126",
   "metadata": {},
   "outputs": [],
   "source": [
    "def parse_mil_dir_to_list(mil_dir):\n",
    "    # Parse list of miller indices (list of str) to list (2D array)  \n",
    "    mil_list = []\n",
    "    \n",
    "    for mil in mil_dir.keys():\n",
    "        mils_cur = []\n",
    "        mil_cur = \"\"\n",
    "        for char in mil:\n",
    "            if (char == \"-\"):\n",
    "                mil_cur += char\n",
    "            else:\n",
    "                mil_cur += char\n",
    "                mils_cur.append(int(mil_cur))\n",
    "                mil_cur = \"\"\n",
    "        mil_list.append(mils_cur)\n",
    "\n",
    "    return mil_list"
   ]
  },
  {
   "cell_type": "code",
   "execution_count": null,
   "id": "4f69b8cd",
   "metadata": {},
   "outputs": [],
   "source": []
  },
  {
   "cell_type": "code",
   "execution_count": null,
   "id": "3a45edc6",
   "metadata": {},
   "outputs": [],
   "source": [
    "st = db[\"zr3o.su\", \"bulk_eos\", 100].copy().end\n",
    "zr3o_pmg = st.convert2pymatgen()"
   ]
  },
  {
   "cell_type": "code",
   "execution_count": null,
   "id": "135c705d",
   "metadata": {},
   "outputs": [],
   "source": []
  },
  {
   "cell_type": "code",
   "execution_count": null,
   "id": "7ac6565e",
   "metadata": {},
   "outputs": [],
   "source": [
    "\"\"\"\n",
    "    Just to remind to you\n",
    "    names_list_dft - list with names\n",
    "    tot_en_list_dft - list with total energies\n",
    "    fml_list_dft - list with chemical formulas\n",
    "    suf_area_list_dft - list with surface energies\n",
    "\"\"\"\n",
    "\n",
    "# Calculation of chemical potentials\n",
    "e_zr3o_snn = float(data_zr3o_snn[1]) / 2\n",
    "e_o_snn = float(data_o2_snn[1]) / 2\n",
    "\n",
    "e_zr3o_dft = float(data_zr3o_dft[1]) / 2\n",
    "e_o_dft = float(data_o2_dft[1]) / 2\n",
    "\n",
    "T_list = [300]\n",
    "\n",
    "for T_cur, T in enumerate(tqdm(T_list)):\n",
    "    # For DFT\n",
    "    chem_list_dft = {}\n",
    "    o_chem_dft =  e_o_dft + (thermo.O2(T=T, c2ev=1, P=P)[0] / 2) + 0.68\n",
    "    zr_chem_dft = (e_zr3o_dft - o_chem_dft) / 3\n",
    "    chem_list_dft[\"O\"] = o_chem_dft\n",
    "    chem_list_dft[\"Zr\"] = zr_chem_dft\n",
    "    \n",
    "    # For SevenNet\n",
    "    o_chem_snn = e_o_snn + (thermo.O2(T=T, c2ev=1, P=P)[0] / 2) + 0.68\n",
    "    zr_chem_snn = (e_zr3o_snn - o_chem_snn) / 3\n",
    "    chem_list_snn[\"O\"] = o_chem_dft\n",
    "    chem_list_snn[\"Zr\"] = zr_chem_dft\n",
    "\n",
    "    # CALCULATE ALL SURFACE ENERGIES FOR THE GIVEN CHEMICAL POTENTILAS\n",
    "    wullf_suf_en_dft = {}\n",
    "    wullf_suf_en_snn = {}\n",
    "\n",
    "    for idx, name in enumerate(names_list_dft):\n",
    "        # For DFT\n",
    "        suf_en_dft = calc_suf_en( tot_en_list_dft[idx], fml_list_dft[idx], \n",
    "                                 suf_area_list_dft[idx], chem_list_dft ) \n",
    "        suf_orient = name.split(\".\")[0]   \n",
    "        if (suf_orient not in wullf_suf_en_dft):\n",
    "            wullf_suf_en_dft[suf_orient] = [suf_en_dft]\n",
    "        else:\n",
    "            wullf_suf_en_dft[suf_orient].append(suf_en_dft)\n",
    "\n",
    "        # For SevenNet\n",
    "        suf_en_snn = calc_suf_en( tot_en_list_snn[idx], fml_list_snn[idx],\n",
    "                                 suf_area_list_snn[idx], chem_list_snn ) \n",
    "        suf_orient = name.split(\".\")[0]   \n",
    "        if (suf_orient not in wullf_suf_en_snn):\n",
    "            wullf_suf_en_snn[suf_orient] = [suf_en_snn]\n",
    "        else:\n",
    "            wullf_suf_en_snn[suf_orient].append(suf_en_snn)\n",
    "        \n",
    "\n",
    "    # MINIMAL SURFACE ENERGY FOR EACH MILLER INDEX\n",
    "    suf_en_min_snn = {}\n",
    "    suf_en_min_dft = {}\n",
    "\n",
    "    for key in wullf_suf_en_snn.keys():\n",
    "        suf_en_min_snn[key] = min(wullf_suf_en_snn[key])\n",
    "        suf_en_min_dft[key] = min(wullf_suf_en_dft[key])\n",
    "        \n",
    "    # VISUALIZE WULLF SHAPES\n",
    "    if 1:\n",
    "        ax = WulffShape(zr3o_pmg.lattice, parse_mil_dir_to_list(suf_en_min_dft),\n",
    "                             list(suf_en_min_dft.values()) ).get_plot(show_area=False, \n",
    "                    color_set=\"CMRmap_r\", aspect_ratio=(8, 16), direction=(1,1,0.5))\n",
    "    else:\n",
    "        ax = WulffShape(zr3o_pmg.lattice, parse_mil_dir_to_list(suf_en_min_snn),\n",
    "                             list(suf_en_min_dft.values()) ).get_plot(show_area=False, \n",
    "                    color_set=\"CMRmap_r\", aspect_ratio=(8, 16), direction=(1,1,0.5))\n",
    "\n",
    "        \n",
    "    "
   ]
  },
  {
   "cell_type": "code",
   "execution_count": null,
   "id": "b1261a42",
   "metadata": {},
   "outputs": [],
   "source": []
  },
  {
   "cell_type": "markdown",
   "id": "4a13d10b",
   "metadata": {},
   "source": [
    "# DFT vs SevenNet results\n",
    "\n",
    "<div>\n",
    "<center>\n",
    "<img src=\"figures/wulff_shapes/dft_vs_snn.png\" width=\"1000\" height=\"400\"/>\n",
    "<center>\n",
    "</div>\n",
    "    \n",
    "<center>\n",
    "<b>Figure.</b> Calculated Wulff shapes (left) DFT; (right) SevenNet. \n",
    "<center>"
   ]
  },
  {
   "cell_type": "code",
   "execution_count": null,
   "id": "2854c97d",
   "metadata": {},
   "outputs": [],
   "source": []
  },
  {
   "cell_type": "code",
   "execution_count": null,
   "id": "b5bea75e",
   "metadata": {},
   "outputs": [],
   "source": []
  },
  {
   "cell_type": "code",
   "execution_count": null,
   "id": "a56c1797",
   "metadata": {},
   "outputs": [],
   "source": []
  },
  {
   "cell_type": "code",
   "execution_count": null,
   "id": "7d946a65",
   "metadata": {},
   "outputs": [],
   "source": []
  }
 ],
 "metadata": {
  "kernelspec": {
   "display_name": "Python310 (default)",
   "language": "python",
   "name": "python310"
  },
  "language_info": {
   "codemirror_mode": {
    "name": "ipython",
    "version": 3
   },
   "file_extension": ".py",
   "mimetype": "text/x-python",
   "name": "python",
   "nbconvert_exporter": "python",
   "pygments_lexer": "ipython3",
   "version": "3.10.15"
  }
 },
 "nbformat": 4,
 "nbformat_minor": 5
}
