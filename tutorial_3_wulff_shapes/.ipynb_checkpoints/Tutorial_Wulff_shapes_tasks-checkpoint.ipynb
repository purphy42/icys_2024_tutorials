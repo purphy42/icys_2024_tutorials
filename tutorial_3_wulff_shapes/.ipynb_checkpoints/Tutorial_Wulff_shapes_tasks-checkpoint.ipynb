{
 "cells": [
  {
   "cell_type": "markdown",
   "id": "844b23d4-d6ea-473e-8358-651fa2443479",
   "metadata": {
    "editable": true,
    "slideshow": {
     "slide_type": ""
    },
    "tags": []
   },
   "source": [
    "# Tutorial: Wulff shapes (tasks)"
   ]
  },
  {
   "cell_type": "code",
   "execution_count": null,
   "id": "0cb8d3ea-1f87-4283-a23c-e481b54bb1ec",
   "metadata": {
    "editable": true,
    "slideshow": {
     "slide_type": ""
    },
    "tags": []
   },
   "outputs": [],
   "source": [
    "%%capture\n",
    "\n",
    "import os, re\n",
    "import siman #program package to manage DFT calculations https://github.com/dimonaks/siman\n",
    "from siman.calc_manage import smart_structure_read, get_structure_from_matproj\n",
    "from siman.calc_manage import add, res\n",
    "# Update configurations\n",
    "from siman import header\n",
    "from siman.database import write_database, read_database\n",
    "from siman.set_functions import read_vasp_sets\n",
    "from siman.header import db\n",
    "from siman.header import _update_configuration\n",
    "_update_configuration('../project_conf.py')\n",
    "read_database() # read saved database if available\n",
    "from pydoc import importfile\n",
    "project_sets = importfile('../project_sets.py')\n",
    "varset = read_vasp_sets(project_sets.user_vasp_sets, override_global = 1) #read user sets\n",
    "\n",
    "from siman import thermo\n",
    "\n",
    "header.PATH2PROJECT = 'icys_2024/tutorial_3_wulff_shapes'\n",
    "header.PATH2EDITOR = 'notepad.exe'\n",
    "\n",
    "from matplotlib import rc\n",
    "\n",
    "import matplotlib.pyplot as plt\n",
    "%matplotlib inline\n",
    "# plt.rcParams['figure.figsize'] = [3.0, 2.2]\n",
    "plt.rcParams['figure.dpi'] = 300\n",
    "\n"
   ]
  },
  {
   "cell_type": "code",
   "execution_count": null,
   "id": "2bf5880b-32f3-4417-a1e1-3d79a2b338e9",
   "metadata": {
    "editable": true,
    "slideshow": {
     "slide_type": ""
    },
    "tags": []
   },
   "outputs": [],
   "source": [
    "# Only for this tutorial\n",
    "\n",
    "import csv\n",
    "from siman.geo import create_surface2, replic\n",
    "import numpy as np\n",
    "import matplotlib.patches as patches\n",
    "from mpl_toolkits.mplot3d.art3d import Poly3DCollection\n",
    "from mpl_toolkits.mplot3d import Axes3D\n",
    "\n",
    "from IPython.core.display import Image, display\n",
    "from tqdm import tqdm"
   ]
  },
  {
   "cell_type": "code",
   "execution_count": null,
   "id": "32ac8863-2b03-4203-9524-163bfbb5dcb3",
   "metadata": {},
   "outputs": [],
   "source": []
  },
  {
   "cell_type": "code",
   "execution_count": null,
   "id": "7e6cf961-b6ee-4c10-ba78-866a1dbc7427",
   "metadata": {},
   "outputs": [],
   "source": []
  },
  {
   "cell_type": "markdown",
   "id": "3bae9a0b-e1c9-4323-81be-95e5b9562151",
   "metadata": {},
   "source": [
    "## Free surfaces"
   ]
  },
  {
   "cell_type": "code",
   "execution_count": null,
   "id": "a7435657-2f2c-4b57-9a20-55b6e1510d34",
   "metadata": {
    "editable": true,
    "slideshow": {
     "slide_type": ""
    },
    "tags": []
   },
   "outputs": [],
   "source": [
    "# \n",
    "st_bulk = get_structure_from_matproj(mat_proj_id = 'mp-###')  # use ID from Materials Project \n",
    "st_bulk = st_bulk.convert2pymatgen()"
   ]
  },
  {
   "cell_type": "code",
   "execution_count": null,
   "id": "0c6b1f98-3fe5-4144-af5f-1cd7a10f82d1",
   "metadata": {},
   "outputs": [],
   "source": [
    "print(\"Space group of you material is {}\".format(st_bulk.get_space_group_info()))\n"
   ]
  },
  {
   "cell_type": "code",
   "execution_count": null,
   "id": "7f83dede-487d-4e44-bfed-c0c7b60d5f9a",
   "metadata": {},
   "outputs": [],
   "source": [
    "# Find distinct miller indices \n",
    "mil_list = get_symmetrically_distinct_miller_indices(structure = st_bulk, max_index = 2, return_hkil = False)\n",
    "\n",
    "print(mil_list)"
   ]
  },
  {
   "cell_type": "code",
   "execution_count": null,
   "id": "1d4800dd-002f-430b-bbad-405a8117e1c2",
   "metadata": {},
   "outputs": [],
   "source": []
  },
  {
   "cell_type": "code",
   "execution_count": null,
   "id": "a9dbd78f-8ecd-4216-93da-b6749316aafe",
   "metadata": {},
   "outputs": [],
   "source": [
    "# Calculate number of terminations for each Miller index\n",
    "idx_list = []\n",
    "len_list = []\n",
    "\n",
    "for mil_idx in tqdm(mil_list):\n",
    "    slabgen = SlabGenerator(initial_structure = st_bulk, miller_index = mil_idx, min_slab_size = 10, \n",
    "                            min_vacuum_size = 10, lll_reduce = True, center_slab = False, primitive = False)\n",
    "\n",
    "    # Number of terminations for the given Miller index\n",
    "    slabs = slabgen.get_slabs()\n",
    "    len_list.append(len(slabs))\n",
    "\n",
    "    # Current miller index as string \n",
    "    mil_cur = [ str(x) for x in mil_idx ]  \n",
    "    mil_cur = \"\".join(mil_cur)\n",
    "    idx_list.append( mil_cur )\n",
    "\n",
    " \n"
   ]
  },
  {
   "cell_type": "code",
   "execution_count": null,
   "id": "d01898f1-6372-4013-b424-9cd2c16e6b47",
   "metadata": {},
   "outputs": [],
   "source": [
    "# Visualize data\n",
    "fig, ax = plt.subplots(figsize=(12, 4))\n",
    "\n",
    "ax.set_xlabel(\"Symmetrically distinct Miller index\", fontsize=20)\n",
    "ax.set_ylabel(\"Number of terminations\", fontsize=20)\n",
    "ax.xaxis.set_tick_params(labelsize=18)\n",
    "ax.yaxis.set_tick_params(labelsize=18)\n",
    "\n",
    "plt.bar(idx_list, len_list, color=\"royalblue\", width=0.5)\n",
    "\n",
    "plt.show()"
   ]
  },
  {
   "cell_type": "code",
   "execution_count": null,
   "id": "f4256191-4f06-434c-83d1-526987a6b865",
   "metadata": {},
   "outputs": [],
   "source": []
  },
  {
   "cell_type": "code",
   "execution_count": null,
   "id": "066b5835-8986-4121-82e8-1bf03ec43485",
   "metadata": {},
   "outputs": [],
   "source": []
  },
  {
   "cell_type": "markdown",
   "id": "77dfca3e-4e86-407f-9814-dd59b74b1934",
   "metadata": {},
   "source": [
    "## Wulff shapes"
   ]
  },
  {
   "cell_type": "code",
   "execution_count": null,
   "id": "93da22c8-4ad4-45d7-a30e-6bd810246ef1",
   "metadata": {},
   "outputs": [],
   "source": [
    "from pymatgen.analysis.wulff import WulffShape\n"
   ]
  },
  {
   "cell_type": "markdown",
   "id": "5074f4f0-7feb-45ff-9176-435aff1309fe",
   "metadata": {},
   "source": [
    "### Play with available data\n",
    "\n",
    "1. You can find surface energies and Wulff shapes at [Crystalim](http://crystalium.materialsvirtuallab.org/) website. Reproduce the results of some elements from it.\n",
    "\n",
    "2. Use [Materials Project](https://next-gen.materialsproject.org/) and calculated surface energies at Heterostructures section -> Surface Energies and visualize data. Compare calculated results with that in Materials Project.\n",
    "\n",
    "3. Find an experimental work with available microimages and particle morphology. Calculate Wulff shape for this material, using any of methods above. Compare the results.\n",
    "\n",
    "*Note, you may use materials from this [article](https://www.sciencedirect.com/science/article/pii/S0927025621003190) (MgO, SnO2, CaO, NaCl, etc.) and compare your results with those.\n",
    "\n"
   ]
  },
  {
   "cell_type": "code",
   "execution_count": null,
   "id": "c1bc23ca-7bfe-490b-b35d-c2ad55a84d73",
   "metadata": {},
   "outputs": [],
   "source": [
    "mil_indices_list = [\n",
    "    (1, 0, 0), \n",
    "    (0, 1, 0),\n",
    "    (0, 0, 1),\n",
    "    (1, 1, 0),\n",
    "    (1, 1, 1),\n",
    "    (2, 1, 0),\n",
    "]\n",
    "\n",
    "suf_en_list = [0.5, 0.6, 0.7, 0.8, 0.9, 1.0]"
   ]
  },
  {
   "cell_type": "code",
   "execution_count": null,
   "id": "5425627c-5430-478c-abf2-eaa5a6877acd",
   "metadata": {},
   "outputs": [],
   "source": [
    "ax = WulffShape(st_bulk.lattice, mil_indices_list, suf_en_list ).get_plot(show_area=False, \n",
    "                    color_set=\"CMRmap_r\", aspect_ratio=(8, 16), direction=(1,1,0.5))\n",
    "\n"
   ]
  },
  {
   "cell_type": "code",
   "execution_count": null,
   "id": "aa131767-c619-4e16-9156-b7fe863902ec",
   "metadata": {},
   "outputs": [],
   "source": []
  },
  {
   "cell_type": "code",
   "execution_count": null,
   "id": "1fff3549-55e6-4087-bd8d-2f6f00661da1",
   "metadata": {},
   "outputs": [],
   "source": []
  },
  {
   "cell_type": "markdown",
   "id": "d2519ba5-1273-46b6-8efa-73c3976d18e4",
   "metadata": {},
   "source": [
    "## Using Materials Project API"
   ]
  },
  {
   "cell_type": "code",
   "execution_count": null,
   "id": "da19ff8c-9924-458c-87cb-a7640c891dac",
   "metadata": {},
   "outputs": [],
   "source": [
    "# Import API soft \n",
    "from pymatgen.ext.matproj import MPRester\n",
    "mpr = MPRester(\"your_api_key\")  # use this line if you set up the configuration file\n",
    "# you can find your api key here: https://next-gen.materialsproject.org/api\n"
   ]
  },
  {
   "cell_type": "code",
   "execution_count": null,
   "id": "628440a9-bce1-45eb-b2ae-bd2bcc8ed8f3",
   "metadata": {},
   "outputs": [],
   "source": [
    "# Get the Wulff shape of a material (currently available for selected elements only)\n",
    "ws = mpr.get_wulff_shape(\"mp-135\")  # mp-135 is Li\n",
    "\n"
   ]
  },
  {
   "cell_type": "code",
   "execution_count": null,
   "id": "325e2f89-110a-48b4-b033-eace411a8a1a",
   "metadata": {},
   "outputs": [],
   "source": [
    "# Visualize data\n",
    "fig = plt.figure(figsize=(1, 2))  # Width x Height in inches\n",
    "ax = ws.get_plot()\n",
    "\n",
    "ax.figure.set_size_inches(5, 15, forward=True)\n",
    "\n",
    "plt.figure(figsize=(2,1))\n",
    "plt.show()\n",
    "\n"
   ]
  },
  {
   "cell_type": "code",
   "execution_count": null,
   "id": "60b757cf-04ef-4bd5-a728-3996de6ed904",
   "metadata": {},
   "outputs": [],
   "source": []
  },
  {
   "cell_type": "code",
   "execution_count": null,
   "id": "7c22c797-9bdf-4f54-aaef-87d34812025a",
   "metadata": {},
   "outputs": [],
   "source": []
  },
  {
   "cell_type": "code",
   "execution_count": null,
   "id": "a743b396-c5e5-44aa-a05f-857481e0a284",
   "metadata": {},
   "outputs": [],
   "source": []
  }
 ],
 "metadata": {
  "kernelspec": {
   "display_name": "Python310 (default)",
   "language": "python",
   "name": "python310"
  },
  "language_info": {
   "codemirror_mode": {
    "name": "ipython",
    "version": 3
   },
   "file_extension": ".py",
   "mimetype": "text/x-python",
   "name": "python",
   "nbconvert_exporter": "python",
   "pygments_lexer": "ipython3",
   "version": "3.10.15"
  }
 },
 "nbformat": 4,
 "nbformat_minor": 5
}
