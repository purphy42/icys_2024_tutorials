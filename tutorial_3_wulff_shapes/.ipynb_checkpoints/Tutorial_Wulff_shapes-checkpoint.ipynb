{
 "cells": [
  {
   "cell_type": "markdown",
   "id": "2477a936",
   "metadata": {
    "editable": true,
    "slideshow": {
     "slide_type": ""
    },
    "tags": []
   },
   "source": [
    "# Tutorial: Wulff shapes"
   ]
  },
  {
   "cell_type": "code",
   "execution_count": null,
   "id": "5578a897",
   "metadata": {},
   "outputs": [],
   "source": []
  },
  {
   "cell_type": "code",
   "execution_count": null,
   "id": "c5993cdb",
   "metadata": {
    "editable": true,
    "slideshow": {
     "slide_type": ""
    },
    "tags": []
   },
   "outputs": [],
   "source": [
    "%%capture\n",
    "\n",
    "import os, re\n",
    "import siman #program package to manage DFT calculations https://github.com/dimonaks/siman\n",
    "from siman.calc_manage import smart_structure_read, get_structure_from_matproj\n",
    "from siman.calc_manage import add, res\n",
    "# Update configurations\n",
    "from siman import header\n",
    "from siman.database import write_database, read_database\n",
    "from siman.set_functions import read_vasp_sets\n",
    "from siman.header import db\n",
    "from siman.header import _update_configuration\n",
    "_update_configuration('../project_conf.py')\n",
    "read_database() # read saved database if available\n",
    "from pydoc import importfile\n",
    "project_sets = importfile('../project_sets.py')\n",
    "varset = read_vasp_sets(project_sets.user_vasp_sets, override_global = 1) #read user sets\n",
    "\n",
    "from siman import thermo\n",
    "\n",
    "header.PATH2PROJECT = 'icys_2024/tutorial_3_wulff_shapes'\n",
    "header.PATH2EDITOR = 'notepad.exe'\n",
    "\n",
    "from matplotlib import rc\n",
    "\n",
    "import matplotlib.pyplot as plt\n",
    "%matplotlib inline\n",
    "# plt.rcParams['figure.figsize'] = [3.0, 2.2]\n",
    "plt.rcParams['figure.dpi'] = 300\n",
    "\n"
   ]
  },
  {
   "cell_type": "code",
   "execution_count": null,
   "id": "0d27df5b",
   "metadata": {},
   "outputs": [],
   "source": [
    "# Only for this tutorial\n",
    "\n",
    "import csv\n",
    "from siman.geo import create_surface2, replic\n",
    "import numpy as np\n",
    "import matplotlib.patches as patches\n",
    "from mpl_toolkits.mplot3d.art3d import Poly3DCollection\n",
    "from mpl_toolkits.mplot3d import Axes3D\n",
    "\n",
    "from IPython.core.display import Image, display\n",
    "from tqdm import tqdm\n"
   ]
  },
  {
   "cell_type": "code",
   "execution_count": null,
   "id": "8e08539a",
   "metadata": {},
   "outputs": [],
   "source": []
  },
  {
   "cell_type": "markdown",
   "id": "c98f57ca",
   "metadata": {},
   "source": [
    "# DFT calculations "
   ]
  },
  {
   "cell_type": "markdown",
   "id": "301ab1f9",
   "metadata": {},
   "source": [
    "## Zr3O with SIMAN & Materials Project"
   ]
  },
  {
   "cell_type": "code",
   "execution_count": null,
   "id": "7108f391",
   "metadata": {},
   "outputs": [],
   "source": [
    "Zr3O = get_structure_from_matproj(mat_proj_id = 'mp-1017')   # SIMAN method to get structure of alpha-zirconium\n"
   ]
  },
  {
   "cell_type": "code",
   "execution_count": null,
   "id": "1390e43c",
   "metadata": {},
   "outputs": [],
   "source": [
    "# Optimize unit cell \n",
    "\n",
    "# add(\"zr3o\", \"bulk_eos\", 1, it_folder = 'bulk', input_st = Zr3O, calc_method = 'uniform_scale', \n",
    "#                n_scale_images=10, scale_region = (-5, 5), run=1, up=\"up2\", cluster = 'razor64')   \n",
    "\n"
   ]
  },
  {
   "cell_type": "code",
   "execution_count": null,
   "id": "20420088",
   "metadata": {},
   "outputs": [],
   "source": [
    "res(\"zr3o.su\", 'bulk_eos', list(range(1,11)) + [100], up=\"up2\", show = 'fit', analys_type = 'fit_a', cluster = 'razor64')\n"
   ]
  },
  {
   "cell_type": "code",
   "execution_count": null,
   "id": "1ffc535b",
   "metadata": {},
   "outputs": [],
   "source": []
  },
  {
   "cell_type": "code",
   "execution_count": null,
   "id": "bda58c70",
   "metadata": {},
   "outputs": [],
   "source": []
  },
  {
   "cell_type": "code",
   "execution_count": null,
   "id": "32f0be57",
   "metadata": {},
   "outputs": [],
   "source": []
  },
  {
   "cell_type": "markdown",
   "id": "7b83dc8f",
   "metadata": {},
   "source": [
    "## O2 with Pymatgen & Siman \n",
    "Experimenal O2 bond length of 1.2075 $\\overset{\\circ}{\\mathrm{A}}$ is taken from [Computational Chemistry Comparison and Benchmark DataBase](https://cccbdb.nist.gov/exp2x.asp?casno=7782447&charge=0)\n",
    " as an inital approximation"
   ]
  },
  {
   "cell_type": "code",
   "execution_count": null,
   "id": "a7de6261",
   "metadata": {},
   "outputs": [],
   "source": [
    "from pymatgen.core import Lattice, Structure, Molecule\n",
    "from pymatgen.vis.structure_vtk import StructureVis\n"
   ]
  },
  {
   "cell_type": "code",
   "execution_count": null,
   "id": "f7f3c3c3",
   "metadata": {},
   "outputs": [],
   "source": [
    "coords = [[0, 0, 0], [0.12075, 0.0, 0.0]]\n",
    "lattice = Lattice.from_parameters(a=10.0, b=10.0, c=15.0, alpha=90,\n",
    "                                  beta=90, gamma=90)\n",
    "o2_mol = Structure(lattice, [\"O\", \"O\"], coords)"
   ]
  },
  {
   "cell_type": "code",
   "execution_count": null,
   "id": "c4d1b5f7",
   "metadata": {},
   "outputs": [],
   "source": []
  },
  {
   "cell_type": "markdown",
   "id": "825d4a86",
   "metadata": {},
   "source": [
    "## Visualiztion of molecule"
   ]
  },
  {
   "cell_type": "code",
   "execution_count": null,
   "id": "654267f6",
   "metadata": {},
   "outputs": [],
   "source": [
    "from pymatgen.io.ase import AseAtomsAdaptor\n",
    "from ase.visualize import view\n",
    "from ase.visualize.plot import plot_atoms\n"
   ]
  },
  {
   "cell_type": "code",
   "execution_count": null,
   "id": "76a9a1ab",
   "metadata": {},
   "outputs": [],
   "source": [
    "ase_o2 = AseAtomsAdaptor.get_atoms(o2_mol)\n"
   ]
  },
  {
   "cell_type": "code",
   "execution_count": null,
   "id": "acad15c7",
   "metadata": {},
   "outputs": [],
   "source": [
    "fig, (ax1, ax2) = plt.subplots(ncols=2, nrows=1, figsize=(5,2))\n",
    "fig.tight_layout()\n",
    "\n",
    "# ax1.xaxis.set_major_locator(plt.MaxNLocator(3))\n",
    "# ax1.yaxis.set_major_locator(plt.MaxNLocator(3))\n",
    "fontsize = 10\n",
    "\n",
    "plot_atoms(ase_o2, ax1, radii=0.5, rotation=('0x,0y,0z'))\n",
    "plot_atoms(ase_o2, ax2, radii=0.5, rotation=('-90x,0y,00z'))\n",
    "\n",
    "ax1.set_title(\"XY plane\", fontsize=fontsize)\n",
    "ax1.set_xlabel(r\"x-axis, $\\mathrm{\\AA}$\", fontsize=fontsize)\n",
    "ax1.set_ylabel(r\"y-axis, $\\mathrm{\\AA}$\", fontsize=fontsize)\n",
    "ax1.xaxis.set_tick_params(labelsize=fontsize)\n",
    "ax1.yaxis.set_tick_params(labelsize=fontsize)\n",
    "\n",
    "ax2.set_title(\"XZ plane\", fontsize=fontsize)\n",
    "ax2.set_xlabel(r\"y-axis, $\\mathrm{\\AA}$\", fontsize=fontsize)\n",
    "ax2.set_ylabel(r\"z-axis, $\\mathrm{\\AA}$\", fontsize=fontsize)\n",
    "ax2.yaxis.set_tick_params(labelsize=fontsize)\n",
    "ax2.xaxis.set_tick_params(labelsize=fontsize)\n",
    "\n"
   ]
  },
  {
   "cell_type": "code",
   "execution_count": null,
   "id": "67da0172",
   "metadata": {},
   "outputs": [],
   "source": []
  },
  {
   "cell_type": "code",
   "execution_count": null,
   "id": "4583a6fa",
   "metadata": {},
   "outputs": [],
   "source": []
  },
  {
   "cell_type": "code",
   "execution_count": null,
   "id": "69169a3a",
   "metadata": {},
   "outputs": [],
   "source": [
    "from siman.core.structure import Structure"
   ]
  },
  {
   "cell_type": "code",
   "execution_count": null,
   "id": "111a0746",
   "metadata": {},
   "outputs": [],
   "source": [
    "siman_o2 = Structure().update_from_pymatgen(o2_mol)\n",
    "siman_o2.magmom = [1.0, 1.0]  # magnetic moments of O atoms"
   ]
  },
  {
   "cell_type": "code",
   "execution_count": null,
   "id": "1b6569ec-24df-4e16-84bc-64231007ce56",
   "metadata": {},
   "outputs": [],
   "source": []
  },
  {
   "cell_type": "code",
   "execution_count": null,
   "id": "717bc7be",
   "metadata": {},
   "outputs": [],
   "source": [
    "# add(\"o2\", \"o2_box\", 1, it_folder = 'bulk', input_st = siman_o2, run=2, up=\"up2\", cluster = 'razor64')   \n"
   ]
  },
  {
   "cell_type": "code",
   "execution_count": null,
   "id": "8c5b516f",
   "metadata": {},
   "outputs": [],
   "source": [
    "res(\"o2\", \"o2_box\", 1, up=\"up2\", cluster = 'razor64')   \n"
   ]
  },
  {
   "cell_type": "code",
   "execution_count": null,
   "id": "0d4c330f",
   "metadata": {},
   "outputs": [],
   "source": []
  },
  {
   "cell_type": "code",
   "execution_count": null,
   "id": "8e2c1649",
   "metadata": {},
   "outputs": [],
   "source": [
    "T_points = 6\n",
    "\n",
    "T_min = 200\n",
    "T_max = 1000\n",
    "T_list = np.linspace(T_min, T_max, T_points) \n",
    "P = 0.21 # atmospheres\n",
    "o_list = []\n",
    "zr_list = []\n",
    "e_zr3o = db[\"zr3o.su\", \"bulk_eos\", 100].e0_at * 4\n",
    "\n",
    "for T in T_list:\n",
    "    o_chem =  db[\"o2\", \"o2_box\", 1].e0_at + (thermo.O2(T=T, c2ev=1, P=P)[0] / 2) + 0.68\n",
    "    zr_chem = (e_zr3o - o_chem) / 3\n",
    "    o_list.append(o_chem)\n",
    "    zr_list.append(zr_chem)\n",
    "    \n",
    "\n"
   ]
  },
  {
   "cell_type": "code",
   "execution_count": null,
   "id": "1ebed631",
   "metadata": {},
   "outputs": [],
   "source": []
  },
  {
   "cell_type": "code",
   "execution_count": null,
   "id": "32b265f5",
   "metadata": {},
   "outputs": [],
   "source": [
    "fig, ax = plt.subplots(figsize=(2.5, 1.8) )\n",
    "\n",
    "fontsize = 7\n",
    "ax.set_xlabel(\"Temperature, K\", fontsize=fontsize)\n",
    "ax.set_ylabel(\"Chemical potential, eV\", fontsize=fontsize)\n",
    "ax.xaxis.set_tick_params(labelsize=fontsize)\n",
    "ax.yaxis.set_tick_params(labelsize=fontsize)\n",
    "\n",
    "ax.plot(T_list, o_list, '-', c='r', label=r\"$\\mu_{\\mathrm{O}}$\")\n",
    "ax.plot(T_list, zr_list, '-', c='b', label=r\"$\\mu_{\\mathrm{Zr}}$\")\n",
    "\n",
    "# Synthesis temperatures are 240-350 C, see https://doi.org/10.1016/j.jssc.2013.10.023\n",
    "ylim = ax.get_ylim()\n",
    "xlim = ax.get_xlim()\n",
    "ax.set_ylim(ylim[0], ylim[1]*1.05)\n",
    "ylim = ax.get_ylim()\n",
    "\n",
    "p = patches.Rectangle((240+273, ylim[0]), (350-240), ylim[1]-ylim[0], linewidth=0, alpha=0.1, facecolor='none', zorder=1)\n",
    "p.set_color('black')\n",
    "ax.add_patch(p)\n",
    "ax.set_xlim([T_min, T_max])\n",
    "\n",
    "ax.legend(fontsize=fontsize, edgecolor=\"black\")\n",
    "fig.tight_layout()\n",
    "fig.show()\n"
   ]
  },
  {
   "cell_type": "code",
   "execution_count": null,
   "id": "7264fe60",
   "metadata": {},
   "outputs": [],
   "source": []
  },
  {
   "cell_type": "code",
   "execution_count": null,
   "id": "4e72511c",
   "metadata": {},
   "outputs": [],
   "source": []
  },
  {
   "cell_type": "code",
   "execution_count": null,
   "id": "b977672f",
   "metadata": {},
   "outputs": [],
   "source": []
  },
  {
   "cell_type": "markdown",
   "id": "6cf5babb",
   "metadata": {},
   "source": [
    "## Calculation of slabs with free surfaces"
   ]
  },
  {
   "cell_type": "markdown",
   "id": "caf2490f",
   "metadata": {},
   "source": [
    "<!-- ![slabs](figures/slabs.png) -->\n",
    "\n",
    "## Симметричные поверхности\n",
    "\n",
    "<div>\n",
    "<center>\n",
    "<img src=\"figures/slabs_1.png\" width=\"500\" height=\"500\"/>\n",
    "<center>\n",
    "</div>\n",
    "\n",
    "Чтобы найти поверхностные энергии для стехиометрических слэбов, мы используем следующую формулу: \n",
    "$$\n",
    "\\gamma_{\\mathrm {surf}}=\\frac{1}{2 A}\\left[E_{\\mathrm {slab }}-N \\times E_{\\mathrm {bulk }}\\right],\n",
    "$$\n",
    "где $A$ — площадь поверхностного сечения слэба, $E_{\\mathrm {slab }}$ — полная энергия слэба; $E_{\\mathrm {bulk }}$ — полная энергия элементарной(примитичвной) стехиометрической ячейки; $N$ — количество формульных единиц в слэбе.\n",
    "\n",
    "## Несимметричные поверхности\n",
    "\n",
    "<div>\n",
    "<center>\n",
    "<img src=\"figures/slabs_2.png\" width=\"500\" height=\"500\"/>\n",
    "<center>\n",
    "</div>\n",
    "\n",
    "    \n",
    "Для нестехиометрических слэбов: \n",
    "$$\n",
    "\\gamma_{\\mathrm {surf}}=\\frac{1}{2 A}\\left[E_{\\mathrm {slab }}-E_{\\mathrm {bulk }}-\\sum_{i} \\Delta n_{i} \\mu_{i}\\right],\n",
    "$$\n",
    "где $A$ — площадь поверхностного сечения слэба, $E_{\\mathrm {slab }}$ — полная энергия слэба, $E_{\\mathrm {bulk }}$ — полная энергия сверхъячейки с составом как в объеме; Индекс $i$ обозначает химические элементы в составе материала. $\\Delta n_{i}$ — разница атомов типа $i$ между слэбом и объемной сверъячейкой. $\\mu_{i}$ — химический состав элемента $i$. "
   ]
  },
  {
   "cell_type": "code",
   "execution_count": null,
   "id": "91b0fa27",
   "metadata": {},
   "outputs": [],
   "source": []
  },
  {
   "cell_type": "code",
   "execution_count": null,
   "id": "7a3f1d71",
   "metadata": {},
   "outputs": [],
   "source": []
  },
  {
   "cell_type": "markdown",
   "id": "13c9fe34",
   "metadata": {},
   "source": [
    "## Generate all possible slabs for Zr3O"
   ]
  },
  {
   "cell_type": "code",
   "execution_count": null,
   "id": "05ed928a",
   "metadata": {},
   "outputs": [],
   "source": [
    "from pymatgen.core.surface import get_symmetrically_distinct_miller_indices\n",
    "from pymatgen.core.surface import SlabGenerator\n"
   ]
  },
  {
   "cell_type": "code",
   "execution_count": null,
   "id": "907ca6bb",
   "metadata": {},
   "outputs": [],
   "source": [
    "zr3o = db['zr3o.su', \"bulk_eos\", 100].copy().end"
   ]
  },
  {
   "cell_type": "code",
   "execution_count": null,
   "id": "e5ce9986",
   "metadata": {},
   "outputs": [],
   "source": [
    "zr3o_pmg = zr3o.convert2pymatgen()"
   ]
  },
  {
   "cell_type": "code",
   "execution_count": null,
   "id": "8c6b1969",
   "metadata": {},
   "outputs": [],
   "source": [
    "# Find all symmetrically distinct indices below a certain max-index for a given structure. \n",
    "# Analysis is based on the symmetry of the reciprocal lattice of the structure.\n",
    "\n",
    "mil_list = get_symmetrically_distinct_miller_indices(structure = zr3o_pmg, max_index = 2, return_hkil = False)"
   ]
  },
  {
   "cell_type": "code",
   "execution_count": null,
   "id": "5d2e049d",
   "metadata": {},
   "outputs": [],
   "source": [
    "mil_list"
   ]
  },
  {
   "cell_type": "code",
   "execution_count": null,
   "id": "eefd7f91",
   "metadata": {},
   "outputs": [],
   "source": []
  },
  {
   "cell_type": "code",
   "execution_count": null,
   "id": "2e493891",
   "metadata": {},
   "outputs": [],
   "source": [
    "idx_list = []\n",
    "len_list = []\n",
    "\n",
    "for mil_idx in tqdm(mil_list):\n",
    "    slabgen = SlabGenerator(initial_structure = zr3o_pmg, miller_index = mil_idx, min_slab_size = 10, \n",
    "                            min_vacuum_size = 10, lll_reduce = True, center_slab = False, primitive = False)\n",
    "\n",
    "    # Number of terminations for the given Miller index\n",
    "    slabs = slabgen.get_slabs()\n",
    "    len_list.append(len(slabs))\n",
    "\n",
    "    # Current miller index as string \n",
    "    mil_cur = [ str(x) for x in mil_idx ]  \n",
    "    mil_cur = \"\".join(mil_cur)\n",
    "    idx_list.append( mil_cur )\n",
    "\n",
    "    for idx, slab in enumerate(slabs):\n",
    "        st_cur = zr3o.update_from_pymatgen(slab)\n",
    "        calc_name = mil_cur + \".\" + str(idx)\n",
    "\n",
    "        # If you want to perform all calculations by yourself \n",
    "        # add(calc_name, \"surface\", 1, it_folder = 'surfaces', input_st = st_cur, ngkpt=[2,2,1], run=2, up=\"up2\", cluster = 'razor64')   \n",
    "\n"
   ]
  },
  {
   "cell_type": "code",
   "execution_count": null,
   "id": "f7c4a6ed",
   "metadata": {},
   "outputs": [],
   "source": []
  },
  {
   "cell_type": "code",
   "execution_count": null,
   "id": "7c0b968a",
   "metadata": {},
   "outputs": [],
   "source": [
    "# Visualize data\n",
    "fig, ax = plt.subplots(figsize=(12, 4))\n",
    "\n",
    "ax.set_xlabel(\"Symmetrically distinct Miller index\", fontsize=20)\n",
    "ax.set_ylabel(\"Number of terminations\", fontsize=20)\n",
    "ax.xaxis.set_tick_params(labelsize=18)\n",
    "ax.yaxis.set_tick_params(labelsize=18)\n",
    "\n",
    "plt.bar(idx_list, len_list, color=\"royalblue\", width=0.5)\n",
    "\n",
    "plt.show()"
   ]
  },
  {
   "cell_type": "code",
   "execution_count": null,
   "id": "f0605943",
   "metadata": {},
   "outputs": [],
   "source": []
  },
  {
   "cell_type": "markdown",
   "id": "a7d530b0",
   "metadata": {},
   "source": [
    "# Calculated surface energies "
   ]
  },
  {
   "cell_type": "code",
   "execution_count": null,
   "id": "d34f5d4c",
   "metadata": {},
   "outputs": [],
   "source": [
    "import pandas as pd"
   ]
  },
  {
   "cell_type": "code",
   "execution_count": null,
   "id": "9214fe35",
   "metadata": {},
   "outputs": [],
   "source": [
    "def parse_chemical_formula(formula):\n",
    "    # Regular expression to match element symbols followed by an optional number\n",
    "    pattern = r\"([A-Z][a-z]*)(\\d*)\"\n",
    "    elements = re.findall(pattern, formula)\n",
    "    \n",
    "    # Convert the matches to a dictionary with element counts\n",
    "    parsed_formula = {}\n",
    "    for (element, count) in elements:\n",
    "        parsed_formula[element] = int(count) if count else 1  # Default to 1 if count is missing\n",
    "\n",
    "    return parsed_formula\n"
   ]
  },
  {
   "cell_type": "code",
   "execution_count": null,
   "id": "bfc911c3",
   "metadata": {},
   "outputs": [],
   "source": []
  },
  {
   "cell_type": "code",
   "execution_count": null,
   "id": "cebc401f",
   "metadata": {},
   "outputs": [],
   "source": [
    "# Chemical potentilas at T=300 K and P=0.21 atm\n",
    "e_zr3o = db[\"zr3o.su\", \"bulk_eos\", 100].e0_at * 4\n",
    "\n",
    "o_chem =  db[\"o2\", \"o2_box\", 1].e0_at + (thermo.O2(T=300, c2ev=1, P=0.21)[0] / 2) + 0.68\n",
    "zr_chem = (e_zr3o - o_chem) / 3\n",
    "\n",
    "chem_list = {\"O\": o_chem, \"Zr\": zr_chem}\n",
    "\n"
   ]
  },
  {
   "cell_type": "code",
   "execution_count": null,
   "id": "5e76c61e",
   "metadata": {},
   "outputs": [],
   "source": []
  },
  {
   "cell_type": "code",
   "execution_count": null,
   "id": "ced9ddd8",
   "metadata": {},
   "outputs": [],
   "source": [
    "# Read already calculated data\n",
    "data_dft = pd.read_csv('data/zr3o_dft.csv', names=[\"surface\", \"energy\", \"formula\", \"area\"])\n",
    "data_dft = data_dft[data_dft[\"surface\"] != \"o2\" ]\n",
    "data_dft = data_dft[data_dft[\"surface\"] != \"zr3o\" ]\n"
   ]
  },
  {
   "cell_type": "code",
   "execution_count": null,
   "id": "3e8e572f",
   "metadata": {},
   "outputs": [],
   "source": [
    "# Get data from the pandas dataframe\n",
    "names_list = []\n",
    "suf_en_list = []\n",
    "names_list_dft = []\n",
    "\n",
    "for index, row in data_dft.iterrows():\n",
    "    names_list.append(row.values[0])\n",
    "    name_cur = names_list[-1].split(\".\")[0]\n",
    "    if (name_cur not in names_list_dft):\n",
    "        names_list_dft.append(name_cur)\n",
    "    \n",
    "    suf_en_cur = float(row.values[1])          \n",
    "    suf_area_cur = float(row.values[3]) \n",
    "    fml_cur = parse_chemical_formula( row.values[2] ) \n",
    "\n",
    "    for el in [\"Zr\", \"O\"]:\n",
    "        suf_en_cur -= fml_cur[el] * chem_list[el]\n",
    "\n",
    "    suf_en_cur /= 2*suf_area_cur\n",
    "    suf_en_cur *= header.eV_A_to_J_m\n",
    "\n",
    "    suf_en_list.append(suf_en_cur)\n",
    "    \n",
    "\n",
    "# Sufrace and total energies for DFT \n",
    "dir_suf = {}\n",
    "\n",
    "for idx, name in enumerate(names_list):\n",
    "    name_cur = name.split(\".\")[0]\n",
    "    if name_cur not in dir_suf.keys():\n",
    "        dir_suf[name_cur] = [suf_en_list[idx]]\n",
    "    else:\n",
    "        dir_suf[name_cur].append(suf_en_list[idx])\n",
    "    "
   ]
  },
  {
   "cell_type": "code",
   "execution_count": null,
   "id": "3eb6a63b",
   "metadata": {},
   "outputs": [],
   "source": []
  },
  {
   "cell_type": "code",
   "execution_count": null,
   "id": "6998b909",
   "metadata": {},
   "outputs": [],
   "source": [
    "fig, ax = plt.subplots(figsize=(5, 2.2))\n",
    "fontsize = 7\n",
    "\n",
    "ax.set_title(\"DFT results\", fontsize=fontsize+2)\n",
    "ax.set_ylabel(r\"Surface energy, J/m$^2$\", fontsize=fontsize+2)\n",
    "ax.xaxis.set_tick_params(labelsize=fontsize)\n",
    "ax.yaxis.set_tick_params(labelsize=fontsize)\n",
    "\n",
    "labels, data_plot = dir_suf.keys(), dir_suf.values()\n",
    "ax.boxplot(data_plot)\n",
    "\n",
    "ax.set_xticks(range(1, len(labels) + 1), labels, fontsize=fontsize)\n",
    "ax.set_xlabel(\"Surface orientation\", fontsize=fontsize+2)\n",
    "\n",
    "plt.show()\n"
   ]
  },
  {
   "cell_type": "code",
   "execution_count": null,
   "id": "d1b1051a",
   "metadata": {},
   "outputs": [],
   "source": []
  },
  {
   "cell_type": "code",
   "execution_count": null,
   "id": "ef579dfc",
   "metadata": {},
   "outputs": [],
   "source": []
  },
  {
   "cell_type": "code",
   "execution_count": null,
   "id": "81fbdb42",
   "metadata": {},
   "outputs": [],
   "source": []
  },
  {
   "cell_type": "markdown",
   "id": "c536b93e",
   "metadata": {},
   "source": [
    "# Calculated Wulff shapes "
   ]
  },
  {
   "cell_type": "code",
   "execution_count": null,
   "id": "4ecc40c3",
   "metadata": {},
   "outputs": [],
   "source": [
    "from pymatgen.analysis.wulff import WulffShape\n",
    "from siman.analysis import wulff"
   ]
  },
  {
   "cell_type": "code",
   "execution_count": null,
   "id": "3bffd35a",
   "metadata": {},
   "outputs": [],
   "source": [
    "def parse_mil_dir_to_list(mil_dir):\n",
    "    # Parse list of miller indices (list of str) to list (2D array)  \n",
    "    mil_list = []\n",
    "    \n",
    "    for mil in mil_dir.keys():\n",
    "        mils_cur = []\n",
    "        mil_cur = \"\"\n",
    "        for char in mil:\n",
    "            if (char == \"-\"):\n",
    "                mil_cur += char\n",
    "            else:\n",
    "                mil_cur += char\n",
    "                mils_cur.append(int(mil_cur))\n",
    "                mil_cur = \"\"\n",
    "        mil_list.append(mils_cur)\n",
    "\n",
    "    return mil_list"
   ]
  },
  {
   "cell_type": "code",
   "execution_count": null,
   "id": "7ed92ff0",
   "metadata": {},
   "outputs": [],
   "source": []
  },
  {
   "cell_type": "code",
   "execution_count": null,
   "id": "c7a840da",
   "metadata": {},
   "outputs": [],
   "source": [
    "st = db[\"zr3o.su\", \"bulk_eos\", 100].copy().end\n",
    "zr3o_pmg = st.convert2pymatgen()"
   ]
  },
  {
   "cell_type": "code",
   "execution_count": null,
   "id": "1f4e25d5",
   "metadata": {},
   "outputs": [],
   "source": [
    "# MINIMAL SURFACE ENERGY FOR EACH MILLER INDEX\n",
    "suf_en_min = {}\n",
    "\n",
    "for key in dir_suf.keys():\n",
    "    suf_en_min[key] = min(dir_suf[key])\n",
    "    \n",
    "# VISUALIZE WULLF SHAPES\n",
    "ax = WulffShape(zr3o_pmg.lattice, parse_mil_dir_to_list(suf_en_min),\n",
    "                         list(suf_en_min.values()) ).get_plot(show_area=False, \n",
    "                         aspect_ratio=(8, 16), direction=(1,1,0.2))\n",
    "\n",
    "# Surface as in rticle \n",
    "ax = WulffShape(zr3o_pmg.lattice, [[0,0,1], [1,0,2], [1,1,0], [1,1,1]],\n",
    "                         [suf_en_min[\"001\"], suf_en_min[\"102\"], \n",
    "                        suf_en_min[\"110\"], suf_en_min[\"111\"]] ).get_plot(show_area=False, \n",
    "                         aspect_ratio=(8, 16), direction=(1,1,0.2))\n",
    "\n",
    "# Reference from the article (https://doi.org/10.1016/j.commatsci.2021.110592) \n",
    "ax = WulffShape(zr3o_pmg.lattice, [[0,0,1], [1,0,2], [1,1,0], [1,1,1], ],\n",
    "                         [1.78, 1.87, 1.78, 1.78]  ).get_plot(\n",
    "                         show_area=False, aspect_ratio=(8, 16), direction=(1,1,0.2))\n",
    "\n"
   ]
  },
  {
   "cell_type": "markdown",
   "id": "abf1fc2d",
   "metadata": {},
   "source": [
    "## All together\n",
    "Three Wulff shapes: calculated for all Miller indices, calclated only for specific miller indices as that from another work by Boev et. al, 2021 (https://doi.org/10.1016/j.commatsci.2021.110592).\n",
    "\n",
    "<div>\n",
    "<center>\n",
    "<img src=\"figures/wulff_shapes/wulff_all.png\" width=\"900\" height=\"200\"/>\n",
    "<center>\n",
    "</div>\n",
    "\n"
   ]
  },
  {
   "cell_type": "code",
   "execution_count": null,
   "id": "d30db7c1",
   "metadata": {},
   "outputs": [],
   "source": []
  },
  {
   "cell_type": "code",
   "execution_count": null,
   "id": "295fa749",
   "metadata": {},
   "outputs": [],
   "source": []
  },
  {
   "cell_type": "markdown",
   "id": "8cd4d7b7",
   "metadata": {},
   "source": [
    "# Wulff shapes over temperature\n",
    "\n",
    "Here, we had stochiometric slab's with two components. As both Zr and O chemical potentials are dependent due to the synthesis environment, Wulff shapes are temperature independent.\n",
    "\n",
    "However, if a structure has nonstochiometric slabs or more than two components, it will have temperature-dependent Wulff shapes. For instance, MgO from the work by Geysermans et. al, 2009 (https://pubs.rsc.org/en/content/articlelanding/2009/cp/b812376d).\n",
    "\n",
    "\n",
    "<div>\n",
    "<center>\n",
    "<img src=\"figures/wulff_shapes/wulff_shapes_over_temperature.jpg\" width=\"400\" height=\"400\"/>\n",
    "<center>\n",
    "</div>\n",
    "    \n",
    "<center>\n",
    "<b>Figure 1.</b>Wulff equilibrium shapes of MgO crystallites as a function ofthe temperature and pressure. Light grey: clean MgO(100) facets, medium grey: hydroxylated MgO(111) facets, dark grey: hydroxylated MgO(100) facets. \n",
    "<center>\n",
    "\n",
    "<br>\n",
    "\n",
    "<div>\n",
    "<center>\n",
    "<img src=\"figures/wulff_shapes/tem_mgo.jpg\" width=\"222\" height=\"222\"/>\n",
    "<center>\n",
    "</div>\n",
    "\n",
    "<center>\n",
    "<b>Figure 2.</b> TEM images of MgO smoke crystallites: (a) as prepared; mostcubic crystals are seen as projections on (100) planes (orientations oftheir facets); (b) After two days in water (pH = 6.8) at room temperature. Projections are on (100) planes; (c) After seven days in water.\n",
    "<center>\n",
    "\n",
    "\n"
   ]
  },
  {
   "cell_type": "code",
   "execution_count": null,
   "id": "de113183",
   "metadata": {},
   "outputs": [],
   "source": []
  },
  {
   "cell_type": "code",
   "execution_count": null,
   "id": "54e474c0",
   "metadata": {},
   "outputs": [],
   "source": []
  },
  {
   "cell_type": "code",
   "execution_count": null,
   "id": "a6e1cb66",
   "metadata": {},
   "outputs": [],
   "source": []
  },
  {
   "cell_type": "markdown",
   "id": "9d8e3f42",
   "metadata": {},
   "source": [
    "## Wulff shapes with SIMAN package"
   ]
  },
  {
   "cell_type": "code",
   "execution_count": null,
   "id": "50a7998a",
   "metadata": {},
   "outputs": [],
   "source": [
    "\n",
    "st_wulff = db[\"zr3o.su\", \"bulk_eos\", 100].copy().end\n",
    "if 1:\n",
    "    wulff_shape = wulff(st_wulff, miller_list = [[0,0,1], [1,0,2], [1,1,0], [1,1,1]], \n",
    "                                  e_surf_list = [1.780, 1.870, 1.780, 1.780], show=1)\n",
    "\n",
    "file_name = \"figures/your_wulff_shape\"\n",
    "# fig.savefig(file_name+\".png\", bbox_inches='tight', dpi=600)\n"
   ]
  },
  {
   "cell_type": "code",
   "execution_count": null,
   "id": "40e66a4b",
   "metadata": {},
   "outputs": [],
   "source": [
    "# pip install wulffpack"
   ]
  },
  {
   "cell_type": "code",
   "execution_count": null,
   "id": "fee45d76",
   "metadata": {},
   "outputs": [],
   "source": [
    "from wulffpack import (SingleCrystal,\n",
    "                       Decahedron,\n",
    "                       Icosahedron,\n",
    "                        )\n",
    "\n",
    "from mpl_toolkits.mplot3d import Axes3D\n",
    "\n",
    "from ase.build import bulk\n",
    "from ase.io import write\n"
   ]
  },
  {
   "cell_type": "code",
   "execution_count": null,
   "id": "e8e72bfa",
   "metadata": {},
   "outputs": [],
   "source": []
  },
  {
   "cell_type": "code",
   "execution_count": null,
   "id": "990da487",
   "metadata": {},
   "outputs": [],
   "source": [
    "surface_energies = {(0, 0, 1): 1.1,\n",
    "                    (1, 0, 2): 1.0,\n",
    "                    (1, 1, 0): 1.15,\n",
    "                    (1, 1, 1): 1.14}\n",
    "\n",
    "particle = SingleCrystal(surface_energies=surface_energies)\n",
    "\n"
   ]
  },
  {
   "cell_type": "code",
   "execution_count": null,
   "id": "bed2b5a3",
   "metadata": {},
   "outputs": [],
   "source": [
    "fig = plt.figure(figsize=(2, 2))\n",
    "ax = fig.add_subplot(111, projection='3d')\n",
    "\n",
    "particle.make_plot(ax,)\n",
    "ax.legend(loc=(1, 0.8), fontsize=5)\n"
   ]
  },
  {
   "cell_type": "code",
   "execution_count": null,
   "id": "7f2b8582",
   "metadata": {},
   "outputs": [],
   "source": []
  },
  {
   "cell_type": "code",
   "execution_count": null,
   "id": "fa5cccf1",
   "metadata": {},
   "outputs": [],
   "source": []
  },
  {
   "cell_type": "markdown",
   "id": "20147b05",
   "metadata": {},
   "source": [
    "## Wulff shapes with [Materials Project](https://next-gen.materialsproject.org/api) API"
   ]
  },
  {
   "cell_type": "code",
   "execution_count": null,
   "id": "205980a4",
   "metadata": {},
   "outputs": [],
   "source": [
    "from pymatgen.ext.matproj import MPRester\n",
    "mpr = MPRester(\"LTSM6dStBrl69FjopxP7KdZBP35B1yh7\")  # use this line if you set up the configuration file\n"
   ]
  },
  {
   "cell_type": "code",
   "execution_count": null,
   "id": "06800265",
   "metadata": {},
   "outputs": [],
   "source": [
    "# Get the Wulff shape of a material (currently available for selected elements only)\n",
    "ws = mpr.get_wulff_shape(\"mp-135\")  # mp-135 is Li\n",
    "\n"
   ]
  },
  {
   "cell_type": "code",
   "execution_count": null,
   "id": "067b59de",
   "metadata": {},
   "outputs": [],
   "source": [
    "fig = plt.figure(figsize=(1, 2))  # Width x Height in inches\n",
    "ax = ws.get_plot()\n",
    "\n",
    "ax.figure.set_size_inches(5, 15, forward=True)\n",
    "\n",
    "plt.figure(figsize=(2,1))\n",
    "plt.show()\n",
    "\n"
   ]
  },
  {
   "cell_type": "code",
   "execution_count": null,
   "id": "337c6b29",
   "metadata": {},
   "outputs": [],
   "source": []
  },
  {
   "cell_type": "code",
   "execution_count": null,
   "id": "ada179ef",
   "metadata": {},
   "outputs": [],
   "source": []
  },
  {
   "cell_type": "code",
   "execution_count": null,
   "id": "0af4ed82",
   "metadata": {},
   "outputs": [],
   "source": [
    "write_database()"
   ]
  },
  {
   "cell_type": "code",
   "execution_count": null,
   "id": "4baaa9d1",
   "metadata": {},
   "outputs": [],
   "source": []
  }
 ],
 "metadata": {
  "kernelspec": {
   "display_name": "Python310 (default)",
   "language": "python",
   "name": "python310"
  },
  "language_info": {
   "codemirror_mode": {
    "name": "ipython",
    "version": 3
   },
   "file_extension": ".py",
   "mimetype": "text/x-python",
   "name": "python",
   "nbconvert_exporter": "python",
   "pygments_lexer": "ipython3",
   "version": "3.10.15"
  }
 },
 "nbformat": 4,
 "nbformat_minor": 5
}
