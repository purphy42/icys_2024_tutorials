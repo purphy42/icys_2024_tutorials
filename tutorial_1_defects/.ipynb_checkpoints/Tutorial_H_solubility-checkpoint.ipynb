{
 "cells": [
  {
   "cell_type": "markdown",
   "id": "f2ba72e6",
   "metadata": {},
   "source": [
    "# Tutorial: Modeling hydrogen solubility in solid phases"
   ]
  },
  {
   "cell_type": "markdown",
   "id": "67e9004d",
   "metadata": {},
   "source": [
    "#### 0. Import reqiured libraries"
   ]
  },
  {
   "cell_type": "code",
   "execution_count": null,
   "id": "99646c8f",
   "metadata": {},
   "outputs": [],
   "source": [
    "import siman #program package to manage DFT calculations https://github.com/dimonaks/siman\n",
    "from siman.calc_manage import smart_structure_read, get_structure_from_matproj\n",
    "from siman.calc_manage import add, res\n",
    "# Update configurations\n",
    "from siman import header\n",
    "from siman.database import write_database, read_database\n",
    "from siman.set_functions import read_vasp_sets\n",
    "from siman.header import db\n",
    "from siman.header import _update_configuration\n",
    "_update_configuration('../project_conf.py')\n",
    "read_database() # read saved database if available\n",
    "from pydoc import importfile\n",
    "project_sets = importfile('../project_sets.py')\n",
    "# import project_sets # should be after read_database\n",
    "varset = read_vasp_sets(project_sets.user_vasp_sets, override_global = 0) #read user sets\n",
    "\n",
    "header.PATH2PROJECT = 'icys_2024/tutorial_1_defects/'\n",
    "header.PATH2EDITOR = 'notepad.exe'\n",
    "\n"
   ]
  },
  {
   "cell_type": "code",
   "execution_count": null,
   "id": "06943cb0",
   "metadata": {},
   "outputs": [],
   "source": []
  },
  {
   "cell_type": "markdown",
   "id": "d7c1b23b",
   "metadata": {},
   "source": [
    "#### Additional information:"
   ]
  },
  {
   "cell_type": "markdown",
   "id": "0bf2aa38",
   "metadata": {},
   "source": [
    "1. Recommended supercell sizes: \n",
    "\n",
    "- Li - [10, 10, 10] \n",
    "- All the others (Ni, Cu, Pd, Ag, Pt) - [8, 8, 8] \n",
    "\n",
    "2. H interstital positions (fcc): recommended reduced coordinates to add H atom \n",
    "\n",
    "- octahedral void: xr=[1/4, 1/4, 1/4] \n",
    "- tetrahedral void: xr=[5/8, 1/8, 1/8]\n",
    "\n",
    "3. Calculating references:\n",
    "- For Ag, Pt optimize supercell & calculate H defect formation energy using $E_{sc}$ as reference;\n",
    "- For all the others (Li, Ni, Cu, Pd) optimize primitive cell and use it as in Al example\n",
    "\n",
    "4. $H_2$ energy to use (calculated in example case for Al): -6.724 eV"
   ]
  },
  {
   "cell_type": "markdown",
   "id": "848f5288",
   "metadata": {},
   "source": [
    "### Now you are ready to start!"
   ]
  },
  {
   "cell_type": "markdown",
   "id": "f1757765",
   "metadata": {},
   "source": [
    "#### 1. Get structure from POSCAR structure file"
   ]
  },
  {
   "cell_type": "code",
   "execution_count": null,
   "id": "103f4562",
   "metadata": {},
   "outputs": [],
   "source": [
    "# use siman function to read structure into st object\n"
   ]
  },
  {
   "cell_type": "markdown",
   "id": "722d7794",
   "metadata": {},
   "source": [
    "#### 2. Make a single point calculation and atomic positions optimization"
   ]
  },
  {
   "cell_type": "code",
   "execution_count": null,
   "id": "7b095e4a-55f8-44d1-a890-10cb5566ded6",
   "metadata": {},
   "outputs": [],
   "source": [
    "# INCAR file parameters - define set 'sp' # just nsw = 1, encut 300\n",
    "varset_sp = read_vasp_sets([('sp', 'static', {'ISIF':2, 'NSW':1, 'ENCUT':300, \n",
    "                                \"ENAUG\": 450, \"IBRION\": -1}, 'override')])"
   ]
  },
  {
   "cell_type": "code",
   "execution_count": null,
   "id": "fbdafdc8",
   "metadata": {},
   "outputs": [],
   "source": [
    "# add a single point calculation to cluster\n"
   ]
  },
  {
   "cell_type": "code",
   "execution_count": null,
   "id": "965615e7",
   "metadata": {},
   "outputs": [],
   "source": [
    "# read results\n"
   ]
  },
  {
   "cell_type": "code",
   "execution_count": null,
   "id": "137dd37e-6c4c-4b6b-aecf-3d1393f0d47e",
   "metadata": {},
   "outputs": [],
   "source": [
    "# INCAR file parameters - define set 'opt' \n",
    "varset_opt = read_vasp_sets([('opt', 'sp', {'ISIF':2, 'NSW':20, 'IBRION':1, \n",
    "                                                \"POTIM\": 0.3, \"EDIFFG\": -0.05}, 'override')])"
   ]
  },
  {
   "cell_type": "code",
   "execution_count": null,
   "id": "95fd6aab",
   "metadata": {},
   "outputs": [],
   "source": [
    "# add a positions optimization calculation to cluster\n"
   ]
  },
  {
   "cell_type": "code",
   "execution_count": null,
   "id": "9145fef5",
   "metadata": {},
   "outputs": [],
   "source": [
    "# read results\n"
   ]
  },
  {
   "cell_type": "markdown",
   "id": "65f7b83f",
   "metadata": {},
   "source": [
    "#### 3. Create supercell and add H interstitial defects (octahedral & tetrahedral voids)"
   ]
  },
  {
   "cell_type": "code",
   "execution_count": null,
   "id": "7f42e4e3",
   "metadata": {},
   "outputs": [],
   "source": [
    "# use siman function to create supercell\n",
    "# take the result of single point calculation as initial structure\n"
   ]
  },
  {
   "cell_type": "code",
   "execution_count": null,
   "id": "c79b44ee",
   "metadata": {},
   "outputs": [],
   "source": [
    "# add H atom to the created supercell using siman method\n",
    "# create two structures - one with H in octahedral void, other - with H in tetrahedral void\n",
    "# take into account the symmetry of your metal (fcc)\n",
    "# think where to put H yourself or use additional info for the reduced coordinates\n"
   ]
  },
  {
   "cell_type": "code",
   "execution_count": null,
   "id": "f752a795",
   "metadata": {},
   "outputs": [],
   "source": [
    "# write poscars and make sure you got the right H positions\n"
   ]
  },
  {
   "cell_type": "markdown",
   "id": "25c34a8b",
   "metadata": {},
   "source": [
    "#### 4. Optimize geometry of supercells with H defects"
   ]
  },
  {
   "cell_type": "code",
   "execution_count": null,
   "id": "17dc2a21",
   "metadata": {},
   "outputs": [],
   "source": [
    "# INCAR file parameters - define set 'opt'\n"
   ]
  },
  {
   "cell_type": "code",
   "execution_count": null,
   "id": "db91f6d5",
   "metadata": {},
   "outputs": [],
   "source": [
    "# add calculations to cluster\n"
   ]
  },
  {
   "cell_type": "code",
   "execution_count": null,
   "id": "c0506f70",
   "metadata": {},
   "outputs": [],
   "source": [
    "# read results\n"
   ]
  },
  {
   "cell_type": "markdown",
   "id": "e83ae1fb",
   "metadata": {},
   "source": [
    "#### 5. Calculate H defect formation energy (oct & tet)"
   ]
  },
  {
   "cell_type": "markdown",
   "id": "2cff6a20",
   "metadata": {},
   "source": [
    "\n",
    "$\n",
    "E_{\\mathrm{defect\\,formation}}(\\mathrm{H}) = E_{\\mathrm{sc+H}} - E_{\\mathrm{sc}} - \\frac{1}{2} \\cdot E_{\\mathrm{H_2}}\n",
    "$"
   ]
  },
  {
   "cell_type": "markdown",
   "id": "5b196d13",
   "metadata": {},
   "source": [
    "sc+H = supercell with H defect \\\n",
    "sc = supercell without defects"
   ]
  },
  {
   "cell_type": "markdown",
   "id": "2f226030",
   "metadata": {},
   "source": [
    "\n",
    "$\n",
    "E_{\\mathrm{defect\\,formation}}(\\mathrm{H}) = E_{\\mathrm{sc+H}} - \\frac{\\mathrm{natom(sc+H)}-1}{\\mathrm{natom(st)}} \\cdot E_{\\mathrm{st}} - \\frac{1}{2} \\cdot E_{\\mathrm{H_2}}\n",
    "$"
   ]
  },
  {
   "cell_type": "markdown",
   "id": "71184da2",
   "metadata": {},
   "source": [
    "sc+H = supercell with H defect \\\n",
    "st = primitive cell structure"
   ]
  },
  {
   "cell_type": "code",
   "execution_count": null,
   "id": "2c6d9af4",
   "metadata": {},
   "outputs": [],
   "source": []
  },
  {
   "cell_type": "markdown",
   "id": "4b1043c5",
   "metadata": {},
   "source": [
    "#### 6. Compare formation energy of H defect in oct & tet positions"
   ]
  },
  {
   "cell_type": "code",
   "execution_count": null,
   "id": "15ce1773",
   "metadata": {},
   "outputs": [],
   "source": [
    "# get the difference between oct & tet H defect formation energies\n"
   ]
  },
  {
   "cell_type": "code",
   "execution_count": null,
   "id": "09243396",
   "metadata": {},
   "outputs": [],
   "source": []
  },
  {
   "cell_type": "code",
   "execution_count": null,
   "id": "f361e77b",
   "metadata": {},
   "outputs": [],
   "source": [
    "write_database()"
   ]
  },
  {
   "cell_type": "code",
   "execution_count": null,
   "id": "185c8664",
   "metadata": {},
   "outputs": [],
   "source": []
  }
 ],
 "metadata": {
  "kernelspec": {
   "display_name": "Python310 (default)",
   "language": "python",
   "name": "python310"
  },
  "language_info": {
   "codemirror_mode": {
    "name": "ipython",
    "version": 3
   },
   "file_extension": ".py",
   "mimetype": "text/x-python",
   "name": "python",
   "nbconvert_exporter": "python",
   "pygments_lexer": "ipython3",
   "version": "3.10.15"
  }
 },
 "nbformat": 4,
 "nbformat_minor": 5
}
