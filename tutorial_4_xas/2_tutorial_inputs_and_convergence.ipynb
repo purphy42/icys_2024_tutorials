{
 "cells": [
  {
   "cell_type": "markdown",
   "metadata": {},
   "source": [
    "# Tutorial 2: Parameters and convergence."
   ]
  },
  {
   "cell_type": "markdown",
   "metadata": {},
   "source": [
    "Content:\n",
    "- Input preparation for LiF, F K-edge.\n",
    "- Convergence with respect to number of bands in BSE part.\n",
    "- Convergence with respect to number of bands in Screening part. "
   ]
  },
  {
   "cell_type": "markdown",
   "metadata": {},
   "source": [
    "Start by importing the SHORE library."
   ]
  },
  {
   "cell_type": "code",
   "execution_count": null,
   "metadata": {},
   "outputs": [],
   "source": [
    "import shore"
   ]
  },
  {
   "cell_type": "markdown",
   "metadata": {},
   "source": [
    "---\n",
    "### Input preparation for LiF, F K-edge."
   ]
  },
  {
   "cell_type": "markdown",
   "metadata": {},
   "source": [
    "Load structure:"
   ]
  },
  {
   "cell_type": "code",
   "execution_count": null,
   "metadata": {},
   "outputs": [],
   "source": [
    "structure=shore.AtomicStructure('data/structures/lif.cif')"
   ]
  },
  {
   "cell_type": "code",
   "execution_count": null,
   "metadata": {},
   "outputs": [],
   "source": [
    "structure.view()"
   ]
  },
  {
   "cell_type": "markdown",
   "metadata": {},
   "source": [
    "Init photon and light objects:"
   ]
  },
  {
   "cell_type": "code",
   "execution_count": null,
   "metadata": {},
   "outputs": [],
   "source": [
    "photon=shore.Photon(polarization=[1,0,0],energy=dict(element=\"F\", edge='K'))\n",
    "light=shore.Light(photons=[photon])"
   ]
  },
  {
   "cell_type": "markdown",
   "metadata": {},
   "source": [
    "Load parameters for tutorial purpose from file lif.param:"
   ]
  },
  {
   "cell_type": "code",
   "execution_count": null,
   "metadata": {},
   "outputs": [],
   "source": [
    "matter=shore.Matter(structure=structure, load='data/inputs/lif.param')"
   ]
  },
  {
   "cell_type": "markdown",
   "metadata": {},
   "source": [
    "What is the number of BSE bands (final state bands) and what is the number of bands used for screening? Hint:Check out `matter.show()`."
   ]
  },
  {
   "cell_type": "code",
   "execution_count": null,
   "metadata": {},
   "outputs": [],
   "source": []
  },
  {
   "cell_type": "markdown",
   "metadata": {},
   "source": [
    "Create input file and come up with the name for it."
   ]
  },
  {
   "cell_type": "code",
   "execution_count": null,
   "metadata": {},
   "outputs": [],
   "source": [
    "ocean=shore.Input(name='',matter=matter,light=light)"
   ]
  },
  {
   "cell_type": "markdown",
   "metadata": {},
   "source": [
    "Don't forget to init the server."
   ]
  },
  {
   "cell_type": "code",
   "execution_count": null,
   "metadata": {},
   "outputs": [],
   "source": [
    "server=shore.RemoteServerManager(load='./myserver.pkl')"
   ]
  },
  {
   "cell_type": "markdown",
   "metadata": {},
   "source": [
    "Finally the calculation object is:"
   ]
  },
  {
   "cell_type": "code",
   "execution_count": null,
   "metadata": {},
   "outputs": [],
   "source": [
    "lif=shore.Calculation(server=server,input=ocean)"
   ]
  },
  {
   "cell_type": "markdown",
   "metadata": {},
   "source": [
    "-----"
   ]
  },
  {
   "cell_type": "markdown",
   "metadata": {},
   "source": [
    "### Convergence with respect to number of bands in BSE part."
   ]
  },
  {
   "cell_type": "markdown",
   "metadata": {},
   "source": [
    "<img src=\"data/figures/img6.png\" alt=\"drawing\" width=\"1000\"/>"
   ]
  },
  {
   "cell_type": "markdown",
   "metadata": {},
   "source": [
    "Initialize the dictionary were all calculations will be stored."
   ]
  },
  {
   "cell_type": "code",
   "execution_count": null,
   "metadata": {},
   "outputs": [],
   "source": [
    "conv={}"
   ]
  },
  {
   "cell_type": "markdown",
   "metadata": {},
   "source": [
    "For set of 10,15,20,25 bands create new calcualtion instances."
   ]
  },
  {
   "cell_type": "code",
   "execution_count": null,
   "metadata": {},
   "outputs": [],
   "source": [
    "for nbands in [10,15,20,25]:\n",
    "    conv[f'bse-{nbands}']=shore.Calculation(server=server, input=ocean.fork(name=f'bse-{nbands}',nbands=nbands))"
   ]
  },
  {
   "cell_type": "markdown",
   "metadata": {},
   "source": [
    "Running new values:\n",
    "```\n",
    "for item in conv.values():\n",
    "    item.run()\n",
    "```\n",
    "Checking status:\n",
    "```\n",
    "for k,v in conv.items():\n",
    "    print(k)\n",
    "    v.get_status()\n",
    "```\n",
    "\n",
    "Getting data from the cluster:\n",
    "```\n",
    "for k,v in conv.items():\n",
    "    # print(k)\n",
    "    v.sync()\n",
    "```"
   ]
  },
  {
   "cell_type": "markdown",
   "metadata": {},
   "source": [
    "Read results from `data/ref/LiF/` folder."
   ]
  },
  {
   "cell_type": "code",
   "execution_count": null,
   "metadata": {},
   "outputs": [],
   "source": [
    "for key,value in conv.items():\n",
    "    conv[key].res=shore.ResultsHandler().load(file=f'data/ref/LiF/conv_bse_bands/{key}.pkl')"
   ]
  },
  {
   "cell_type": "markdown",
   "metadata": {},
   "source": [
    "Visualise results. "
   ]
  },
  {
   "cell_type": "code",
   "execution_count": null,
   "metadata": {},
   "outputs": [],
   "source": [
    "import plotly.graph_objects as go"
   ]
  },
  {
   "cell_type": "code",
   "execution_count": null,
   "metadata": {},
   "outputs": [],
   "source": [
    "fig=go.Figure()\n",
    "for key,value in conv.items():\n",
    "    conv[key].res.plot(fig=fig, element='F_', core_level='1s', site_number=1,lw=3, name=key, norm=False)\n",
    "fig.update_xaxes(range=[-10,60])\n",
    "fig.update_layout(title='LiF BSE bands')\n"
   ]
  },
  {
   "cell_type": "markdown",
   "metadata": {},
   "source": [
    "What is the effect of the number of final state bands on the spectra?"
   ]
  },
  {
   "cell_type": "markdown",
   "metadata": {},
   "source": [
    "Other things to consider:\n",
    "- kmesh gs\n",
    "- kmesh screen \n",
    "- kmesh bse"
   ]
  },
  {
   "cell_type": "markdown",
   "metadata": {},
   "source": [
    "---\n",
    "### Convergence with respect to number of bands in Screening part. "
   ]
  },
  {
   "cell_type": "markdown",
   "metadata": {},
   "source": [
    "<img src=\"data/figures/img7.png\" alt=\"drawing\" width=\"1000\"/>"
   ]
  },
  {
   "cell_type": "code",
   "execution_count": null,
   "metadata": {},
   "outputs": [],
   "source": [
    "screen={}\n",
    "for sbands in [10,25,50,75,100]:\n",
    "    screen[sbands]=shore.Calculation(server=server, input=ocean.fork(name=f'screen-{sbands}',screen_nbands=sbands))"
   ]
  },
  {
   "cell_type": "markdown",
   "metadata": {},
   "source": [
    "```\n",
    "for sbands in [10,25,50,75,100]:\n",
    "    screen[sbands].sync()\n",
    "\n",
    "Syncing Files: 100%|██████████| 5/5 [00:00<00:00, 16.42file/s]\n",
    "Syncing Files: 100%|██████████| 5/5 [00:00<00:00, 19.49file/s]\n",
    "Syncing Files: 100%|██████████| 5/5 [00:00<00:00, 19.68file/s]\n",
    "Syncing Files: 100%|██████████| 5/5 [00:00<00:00, 16.67file/s]\n",
    "Syncing Files: 100%|██████████| 5/5 [00:00<00:00, 17.27file/s]\n",
    "```"
   ]
  },
  {
   "cell_type": "code",
   "execution_count": null,
   "metadata": {},
   "outputs": [],
   "source": [
    "for key,value in screen.items():\n",
    "    screen[key].res=shore.ResultsHandler().load(file=f'data/ref/LiF/conv_screen_bands/screen-{key}.pkl')"
   ]
  },
  {
   "cell_type": "code",
   "execution_count": null,
   "metadata": {},
   "outputs": [],
   "source": [
    "fig=go.Figure()\n",
    "for key,value in screen.items():\n",
    "    screen[key].res.plot(fig=fig, element='F_', core_level='1s', site_number=1, name=key, norm=False)\n",
    "fig.update_layout(title='LiF SCREEN bands')"
   ]
  },
  {
   "cell_type": "markdown",
   "metadata": {},
   "source": [
    "Why does the height of the first peak decrease as the number of bands used for screening increases?"
   ]
  },
  {
   "cell_type": "markdown",
   "metadata": {},
   "source": [
    "-------"
   ]
  }
 ],
 "metadata": {
  "kernelspec": {
   "display_name": "Python310 (default)",
   "language": "python",
   "name": "python310"
  },
  "language_info": {
   "codemirror_mode": {
    "name": "ipython",
    "version": 3
   },
   "file_extension": ".py",
   "mimetype": "text/x-python",
   "name": "python",
   "nbconvert_exporter": "python",
   "pygments_lexer": "ipython3",
   "version": "3.10.15"
  }
 },
 "nbformat": 4,
 "nbformat_minor": 4
}
